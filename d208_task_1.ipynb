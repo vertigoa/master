{
 "cells": [
  {
   "cell_type": "markdown",
   "metadata": {},
   "source": [
    "---------------------------"
   ]
  },
  {
   "cell_type": "markdown",
   "metadata": {},
   "source": [
    "\n",
    "# Performance Assessment: D208 Predictive Modeling Task 1 - Multiple Linear Regression.\n",
    "\n",
    "## Michael Hindes\n",
    "Department of Information Technology, Western Governors University\n",
    "<br>D208: Predictive Modeling\n",
    "<br>Professor David Gagner\n",
    "<br>February 11, 2024"
   ]
  },
  {
   "cell_type": "markdown",
   "metadata": {},
   "source": [
    "This project aims to create a multiple regression model derived from medical raw data, \n",
    "targeting a business question reflective of a real-world organizational challenge. \n",
    "Python is employed to conduct a multiple regression analysis to explore the research \n",
    "question thoroughly. The analysis is supported by visual aids to elucidate the \n",
    "regression outcomes and predictions. The process also involves meticulous data \n",
    "cleaning to ensure accuracy and reliability. Additionally, the project shares the code \n",
    "used for the regression analysis and predictions. It concludes by detailing the \n",
    "regression equation, evaluating the statistical and practical significances, \n",
    "discussing limitations, and suggesting possible actions.\n"
   ]
  },
  {
   "cell_type": "markdown",
   "metadata": {},
   "source": [
    "-------------------------------------\n"
   ]
  },
  {
   "cell_type": "markdown",
   "metadata": {
    "tags": [
     "project",
     "sectionA"
    ]
   },
   "source": [
    "# Part I: Research Question\n",
    "## Describe the purpose of this data analysis by doing the following::\n",
    "\n",
    "### **A1. Research Question:**\n",
    "**\"What factors contribute to the total charges incurred by patients during their hospital stay?\"**\n",
    "\n",
    "This question aims to identify key variables within the dataset that influence hospital charges, including length of stay, services rendered, patient risk factors, and demographic details. The goal is to understand the primary drivers of hospital expenses. This information can be used to help predict charges for future patients, allowing hospitals to better manage their resources and improve patient care.\n",
    "\n",
    "### **A2. Define the goals of the data analysis.**\n",
    "\n",
    "This data analysis project is focused on developing a predictive model as a practical \n",
    "tool to help healthcare organizations in planning and operational improvements. By \n",
    "examining a wide range of factors that potentially affect TotalCharge, the project \n",
    "aims to build a model that supports data-driven decision-making in healthcare. This \n",
    "initiative represents a preliminary step towards leveraging predictive modeling for \n",
    "financial sustainability and greater transparency.\n",
    "\n",
    "-   Variable Identification: Identify a comprehensive set of factors that influence \n",
    "TotalCharge, with a focus on clinical, operational, and demographic elements. This \n",
    "step lays the groundwork for understanding the broad variables that could impact \n",
    "hospital charges.\n",
    "\n",
    "-   Quantitative Assessment: Conduct a quantitative analysis to evaluate how these \n",
    "factors contribute to TotalCharge. This will help in understanding the significance \n",
    "and relationships of different variables with TotalCharge, providing a basis for the \n",
    "predictive model.\n",
    "\n",
    "-   Insight Generation: The aim is to generate preliminary insights that could inform \n",
    "hospital cost management and pricing strategies, potentially leading to improved \n",
    "operational and billing processes. These insights are seen as an initial foray into \n",
    "optimizing hospital operations.\n",
    "\n",
    "-   Predictive Modeling: The core goal is to develop an initial predictive model that \n",
    "estimates TotalCharge based on factors identifiable prior to or at the point of \n",
    "admission. This model is intended to enhance financial planning and increase \n",
    "transparency for both the hospital and its patients, serving as a first step towards \n",
    "more sophisticated predictive capabilities in the future.\n",
    "\n"
   ]
  },
  {
   "cell_type": "markdown",
   "metadata": {},
   "source": [
    "-------------------------------------\n"
   ]
  },
  {
   "cell_type": "markdown",
   "metadata": {},
   "source": [
    "# Part I: Research Question\n",
    "## Describe the purpose of this data analysis by doing the following::\n",
    "\n",
    "### **A1. Research Question:**\n",
    "**\"What factors contribute to the total charges incurred by patients during their hospital stay?\"**\n",
    "\n",
    "This question aims to identify key variables within the dataset that influence hospital charges, including length of stay, services rendered, patient risk factors, and demographic details. The goal is to understand the primary drivers of hospital expenses. This information can be used to help predict charges for future patients, allowing hospitals to better manage their resources and improve patient care.\n",
    "\n",
    "### **A2. Define the goals of the data analysis.**\n",
    "\n",
    "This data analysis project is focused on developing a predictive model as a practical \n",
    "tool to help healthcare organizations in planning and operational improvements. By \n",
    "examining a wide range of factors that potentially affect TotalCharge, the project \n",
    "aims to build a model that supports data-driven decision-making in healthcare. This \n",
    "initiative represents a preliminary step towards leveraging predictive modeling for \n",
    "financial sustainability and greater transparency.\n",
    "\n",
    "-   Variable Identification: Identify a comprehensive set of factors that influence \n",
    "TotalCharge, with a focus on clinical, operational, and demographic elements. This \n",
    "step lays the groundwork for understanding the broad variables that could impact \n",
    "hospital charges.\n",
    "\n",
    "-   Quantitative Assessment: Conduct a quantitative analysis to evaluate how these \n",
    "factors contribute to TotalCharge. This will help in understanding the significance \n",
    "and relationships of different variables with TotalCharge, providing a basis for the \n",
    "predictive model.\n",
    "\n",
    "-   Insight Generation: The aim is to generate preliminary insights that could inform \n",
    "hospital cost management and pricing strategies, potentially leading to improved \n",
    "operational and billing processes. These insights are seen as an initial foray into \n",
    "optimizing hospital operations.\n",
    "\n",
    "-   Predictive Modeling: The core goal is to develop an initial predictive model that \n",
    "estimates TotalCharge based on factors identifiable prior to or at the point of \n",
    "admission. This model is intended to enhance financial planning and increase \n",
    "transparency for both the hospital and its patients, serving as a first step towards \n",
    "more sophisticated predictive capabilities in the future.\n",
    "\n"
   ]
  },
  {
   "cell_type": "markdown",
   "metadata": {},
   "source": [
    "-------------------------------------\n"
   ]
  },
  {
   "cell_type": "markdown",
   "metadata": {},
   "source": [
    "--------------------------------------------"
   ]
  },
  {
   "cell_type": "markdown",
   "metadata": {},
   "source": [
    "--------------------------------------------"
   ]
  },
  {
   "cell_type": "markdown",
   "metadata": {},
   "source": [
    "--------------------------------------------"
   ]
  },
  {
   "cell_type": "markdown",
   "metadata": {},
   "source": [
    "----------------------------------------------------------------------"
   ]
  },
  {
   "cell_type": "markdown",
   "metadata": {},
   "source": [
    "--------------------"
   ]
  }
 ],
 "metadata": {
  "kernelspec": {
   "display_name": ".venv",
   "language": "python",
   "name": "python3"
  },
  "language_info": {
   "codemirror_mode": {
    "name": "ipython",
    "version": 3
   },
   "file_extension": ".py",
   "mimetype": "text/x-python",
   "name": "python",
   "nbconvert_exporter": "python",
   "pygments_lexer": "ipython3",
   "version": "3.12.1"
  }
 },
 "nbformat": 4,
 "nbformat_minor": 2
}
