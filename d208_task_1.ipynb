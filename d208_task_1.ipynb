{
 "cells": [
  {
   "cell_type": "markdown",
   "metadata": {},
   "source": [
    "---------------------------"
   ]
  },
  {
   "cell_type": "markdown",
   "metadata": {},
   "source": [
    "\n",
    "# Performance Assessment: D208 Predictive Modeling Task 1 - Multiple Linear Regression.\n",
    "\n",
    "## Michael Hindes\n",
    "Department of Information Technology, Western Governors University\n",
    "<br>D208: Predictive Modeling\n",
    "<br>Professor David Gagner\n",
    "<br>February 11, 2024"
   ]
  },
  {
   "cell_type": "markdown",
   "metadata": {},
   "source": [
    "This paper presents a multiple regression model using medical raw data. It will pinpoint a business question \n",
    "relevant to a real-world challenge an organization might encounter. Using Python, multiple regression analysis \n",
    "will be performed to address this question. To aid comprehension of the regression and its predictions, visual \n",
    "aids will be included. Additionally, the paper will share the code utilized for the regression and forecasts. \n",
    "Concluding, it will detail the regression equation, evaluate statistical and practical significances, discuss \n",
    "limitations,and suggest a course of action."
   ]
  },
  {
   "cell_type": "markdown",
   "metadata": {},
   "source": [
    "-------------------------------------\n"
   ]
  },
  {
   "cell_type": "markdown",
   "metadata": {
    "tags": [
     "project",
     "sectionA"
    ]
   },
   "source": [
    "# Part I: Research Question\n",
    "## Describe the purpose of this data analysis by doing the following::\n",
    "\n",
    "### **A1. Research Question:**\n",
    "**\"What factors contribute to the total charges incurred by patients during their hospital stay?\"**\n",
    "\n",
    "This question aims to identify key variables within the dataset that influence hospital charges, including length of stay, services rendered, patient risk factors, and demographic details. The goal is to understand the primary drivers of hospital expenses. This information can be used to help predict charges for future patients, allowing hospitals to better manage their resources and improve patient care.\n",
    "\n",
    "### **A2. Define the goals of the data analysis.**\n",
    "\n",
    "This data analysis project is focused on developing a predictive model as a practical \n",
    "tool to help healthcare organizations in planning and operational improvements. By \n",
    "examining a wide range of factors that potentially affect TotalCharge, the project \n",
    "aims to build a model that supports data-driven decision-making in healthcare. This \n",
    "initiative represents a preliminary step towards leveraging predictive modeling for \n",
    "financial sustainability and greater transparency.\n",
    "\n",
    "-   Variable Identification: Identify a comprehensive set of factors that influence \n",
    "TotalCharge, with a focus on clinical, operational, and demographic elements. This \n",
    "step lays the groundwork for understanding the broad variables that could impact \n",
    "hospital charges.\n",
    "\n",
    "-   Quantitative Assessment: Conduct a quantitative analysis to evaluate how these \n",
    "factors contribute to TotalCharge. This will help in understanding the significance \n",
    "and relationships of different variables with TotalCharge, providing a basis for the \n",
    "predictive model.\n",
    "\n",
    "-   Insight Generation: The aim is to generate preliminary insights that could inform \n",
    "hospital cost management and pricing strategies, potentially leading to improved \n",
    "operational and billing processes. These insights are seen as an initial foray into \n",
    "optimizing hospital operations.\n",
    "\n",
    "-   Predictive Modeling: The core goal is to develop an initial predictive model that \n",
    "estimates TotalCharge based on factors identifiable prior to or at the point of \n",
    "admission. This model is intended to enhance financial planning and increase \n",
    "transparency for both the hospital and its patients, serving as a first step towards \n",
    "more sophisticated predictive capabilities in the future.\n",
    "\n"
   ]
  },
  {
   "cell_type": "markdown",
   "metadata": {},
   "source": [
    "-------------------------------------\n"
   ]
  },
  {
   "cell_type": "markdown",
   "metadata": {},
   "source": [
    "-------------------------------------\n"
   ]
  },
  {
   "cell_type": "markdown",
   "metadata": {},
   "source": [
    "--------------------------------------------"
   ]
  },
  {
   "cell_type": "markdown",
   "metadata": {},
   "source": [
    "# Above here is Part I,II,III which is prep. Below is the actual analysis."
   ]
  },
  {
   "cell_type": "markdown",
   "metadata": {},
   "source": [
    "--------------------------------------------"
   ]
  },
  {
   "cell_type": "markdown",
   "metadata": {},
   "source": [
    "# Below is Part IV,V,VI... the actual analysis. "
   ]
  },
  {
   "cell_type": "markdown",
   "metadata": {},
   "source": [
    "--------------------------------------------"
   ]
  },
  {
   "cell_type": "markdown",
   "metadata": {},
   "source": [
    "----------------------------------------------------------------------"
   ]
  },
  {
   "cell_type": "markdown",
   "metadata": {},
   "source": [
    "--------------------"
   ]
  },
  {
   "cell_type": "markdown",
   "metadata": {},
   "source": [
    "### G & H: References\n",
    "\n",
    "- Western Governors University. (2023, December 21). D207 - Medical_clean Dataset. Retrieved from https://lrps.wgu.edu/provision/227079957\n",
    "\n",
    "- Western Governors University IT Department. (2023). R or Python? How to decide which programming language to learn. Retrieved from https://www.wgu.edu/online-it-degrees/programming-languages/r-or-python.html#\n",
    "\n",
    "- Datacamp. (2023, December 12). D207 - Exploratory Data Analysis. Retrieved from https://app.datacamp.com/learn/custom-tracks/custom-d207-exploratory-data-analysis \n",
    "\n",
    "- Sewell, Dr. (2023). WGU D207 Exploratory Data Analysis [Webinars]. WGU Webex. Accessed December, 2023. https://wgu.webex.com/webappng/sites/wgu/meeting/info/c4aca2eac546482880f1557c938abf40?siteurl=wgu&MTID=me73470c2eac9e863c6f47a3d5b6d2f26 \n",
    "\n",
    "- Seaborn Developers. (2023). seaborn.scatterplot — seaborn 0.11.2 documentation. Retrieved December 22, 2023, from https://seaborn.pydata.org/generated/seaborn.scatterplot.html\n",
    "\n"
   ]
  }
 ],
 "metadata": {
  "kernelspec": {
   "display_name": ".venv",
   "language": "python",
   "name": "python3"
  },
  "language_info": {
   "codemirror_mode": {
    "name": "ipython",
    "version": 3
   },
   "file_extension": ".py",
   "mimetype": "text/x-python",
   "name": "python",
   "nbconvert_exporter": "python",
   "pygments_lexer": "ipython3",
   "version": "3.12.1"
  }
 },
 "nbformat": 4,
 "nbformat_minor": 2
}
