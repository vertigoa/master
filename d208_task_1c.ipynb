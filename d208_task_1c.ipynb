{
 "cells": [
  {
   "cell_type": "code",
   "execution_count": 36,
   "metadata": {},
   "outputs": [
    {
     "name": "stdout",
     "output_type": "stream",
     "text": [
      "Requirement already satisfied: scikit-learn in c:\\users\\hinde\\appdata\\local\\programs\\python\\python312\\lib\\site-packages (1.4.1.post1)\n",
      "Requirement already satisfied: numpy<2.0,>=1.19.5 in c:\\users\\hinde\\appdata\\local\\programs\\python\\python312\\lib\\site-packages (from scikit-learn) (1.26.4)\n",
      "Requirement already satisfied: scipy>=1.6.0 in c:\\users\\hinde\\appdata\\local\\programs\\python\\python312\\lib\\site-packages (from scikit-learn) (1.12.0)\n",
      "Requirement already satisfied: joblib>=1.2.0 in c:\\users\\hinde\\appdata\\local\\programs\\python\\python312\\lib\\site-packages (from scikit-learn) (1.3.2)\n",
      "Requirement already satisfied: threadpoolctl>=2.0.0 in c:\\users\\hinde\\appdata\\local\\programs\\python\\python312\\lib\\site-packages (from scikit-learn) (3.3.0)\n",
      "Note: you may need to restart the kernel to use updated packages.\n"
     ]
    },
    {
     "name": "stderr",
     "output_type": "stream",
     "text": [
      "\n",
      "[notice] A new release of pip is available: 23.3.2 -> 24.0\n",
      "[notice] To update, run: python.exe -m pip install --upgrade pip\n"
     ]
    },
    {
     "name": "stdout",
     "output_type": "stream",
     "text": [
      "Requirement already satisfied: Jinja2 in c:\\users\\hinde\\appdata\\local\\programs\\python\\python312\\lib\\site-packages (3.1.2)\n",
      "Requirement already satisfied: MarkupSafe>=2.0 in c:\\users\\hinde\\appdata\\local\\programs\\python\\python312\\lib\\site-packages (from Jinja2) (2.1.3)\n",
      "Note: you may need to restart the kernel to use updated packages.\n"
     ]
    },
    {
     "name": "stderr",
     "output_type": "stream",
     "text": [
      "\n",
      "[notice] A new release of pip is available: 23.3.2 -> 24.0\n",
      "[notice] To update, run: python.exe -m pip install --upgrade pip\n"
     ]
    },
    {
     "name": "stdout",
     "output_type": "stream",
     "text": [
      "Requirement already satisfied: statsmodels in c:\\users\\hinde\\appdata\\local\\programs\\python\\python312\\lib\\site-packages (0.14.1)\n",
      "Requirement already satisfied: numpy<2,>=1.18 in c:\\users\\hinde\\appdata\\local\\programs\\python\\python312\\lib\\site-packages (from statsmodels) (1.26.4)\n",
      "Requirement already satisfied: scipy!=1.9.2,>=1.4 in c:\\users\\hinde\\appdata\\local\\programs\\python\\python312\\lib\\site-packages (from statsmodels) (1.12.0)\n",
      "Requirement already satisfied: pandas!=2.1.0,>=1.0 in c:\\users\\hinde\\appdata\\local\\programs\\python\\python312\\lib\\site-packages (from statsmodels) (2.2.1)\n",
      "Requirement already satisfied: patsy>=0.5.4 in c:\\users\\hinde\\appdata\\local\\programs\\python\\python312\\lib\\site-packages (from statsmodels) (0.5.6)\n",
      "Requirement already satisfied: packaging>=21.3 in c:\\users\\hinde\\appdata\\roaming\\python\\python312\\site-packages (from statsmodels) (23.2)\n",
      "Requirement already satisfied: python-dateutil>=2.8.2 in c:\\users\\hinde\\appdata\\roaming\\python\\python312\\site-packages (from pandas!=2.1.0,>=1.0->statsmodels) (2.8.2)\n",
      "Requirement already satisfied: pytz>=2020.1 in c:\\users\\hinde\\appdata\\local\\programs\\python\\python312\\lib\\site-packages (from pandas!=2.1.0,>=1.0->statsmodels) (2024.1)\n",
      "Requirement already satisfied: tzdata>=2022.7 in c:\\users\\hinde\\appdata\\local\\programs\\python\\python312\\lib\\site-packages (from pandas!=2.1.0,>=1.0->statsmodels) (2024.1)\n",
      "Requirement already satisfied: six in c:\\users\\hinde\\appdata\\roaming\\python\\python312\\site-packages (from patsy>=0.5.4->statsmodels) (1.16.0)\n",
      "Note: you may need to restart the kernel to use updated packages.\n"
     ]
    },
    {
     "name": "stderr",
     "output_type": "stream",
     "text": [
      "\n",
      "[notice] A new release of pip is available: 23.3.2 -> 24.0\n",
      "[notice] To update, run: python.exe -m pip install --upgrade pip\n"
     ]
    }
   ],
   "source": [
    "# Import packages and libraries\n",
    "%pip install scikit-learn\n",
    "%pip install Jinja2\n",
    "%matplotlib inline\n",
    "%pip install statsmodels\n",
    "import pandas as pd\n",
    "import numpy as np\n",
    "import matplotlib.pyplot as plt\n",
    "import scipy.stats as stats\n",
    "import seaborn as sns\n",
    "from pandas import DataFrame\n",
    "import statsmodels.api as sm\n",
    "from statsmodels.stats.outliers_influence import variance_inflation_factor\n",
    "from statsmodels.tools.tools import add_constant"
   ]
  },
  {
   "cell_type": "code",
   "execution_count": 64,
   "metadata": {},
   "outputs": [],
   "source": [
    "# read the first 5000 rows of medical_transformed.csv\n",
    "df = pd.read_csv('medical_transformed.csv')"
   ]
  },
  {
   "cell_type": "code",
   "execution_count": 55,
   "metadata": {},
   "outputs": [
    {
     "data": {
      "image/png": "[encoded data removed]",
      "text/plain": [
       "<Figure size 640x480 with 1 Axes>"
      ]
     },
     "metadata": {},
     "output_type": "display_data"
    }
   ],
   "source": [
    "# create a histogram of the initial_days column\n",
    "plt.hist(df['Initial_days'], bins=50)\n",
    "plt.show()"
   ]
  },
  {
   "cell_type": "markdown",
   "metadata": {},
   "source": [
    "--------------------"
   ]
  },
  {
   "cell_type": "code",
   "execution_count": null,
   "metadata": {},
   "outputs": [],
   "source": []
  },
  {
   "cell_type": "code",
   "execution_count": 66,
   "metadata": {},
   "outputs": [
    {
     "data": {
      "text/html": [
       "<table class=\"simpletable\">\n",
       "<caption>OLS Regression Results</caption>\n",
       "<tr>\n",
       "  <th>Dep. Variable:</th>      <td>Initial_days</td>   <th>  R-squared:         </th> <td>   0.726</td> \n",
       "</tr>\n",
       "<tr>\n",
       "  <th>Model:</th>                   <td>OLS</td>       <th>  Adj. R-squared:    </th> <td>   0.725</td> \n",
       "</tr>\n",
       "<tr>\n",
       "  <th>Method:</th>             <td>Least Squares</td>  <th>  F-statistic:       </th> <td>   714.1</td> \n",
       "</tr>\n",
       "<tr>\n",
       "  <th>Date:</th>             <td>Thu, 21 Mar 2024</td> <th>  Prob (F-statistic):</th>  <td>  0.00</td>  \n",
       "</tr>\n",
       "<tr>\n",
       "  <th>Time:</th>                 <td>04:10:42</td>     <th>  Log-Likelihood:    </th> <td> -40411.</td> \n",
       "</tr>\n",
       "<tr>\n",
       "  <th>No. Observations:</th>      <td> 10000</td>      <th>  AIC:               </th> <td>8.090e+04</td>\n",
       "</tr>\n",
       "<tr>\n",
       "  <th>Df Residuals:</th>          <td>  9962</td>      <th>  BIC:               </th> <td>8.117e+04</td>\n",
       "</tr>\n",
       "<tr>\n",
       "  <th>Df Model:</th>              <td>    37</td>      <th>                     </th>     <td> </td>    \n",
       "</tr>\n",
       "<tr>\n",
       "  <th>Covariance Type:</th>      <td>nonrobust</td>    <th>                     </th>     <td> </td>    \n",
       "</tr>\n",
       "</table>\n",
       "<table class=\"simpletable\">\n",
       "<tr>\n",
       "                   <td></td>                      <th>coef</th>     <th>std err</th>      <th>t</th>      <th>P>|t|</th>  <th>[0.025</th>    <th>0.975]</th>  \n",
       "</tr>\n",
       "<tr>\n",
       "  <th>const</th>                               <td>   19.4602</td> <td>    2.467</td> <td>    7.889</td> <td> 0.000</td> <td>   14.625</td> <td>   24.295</td>\n",
       "</tr>\n",
       "<tr>\n",
       "  <th>Children</th>                            <td>    0.0401</td> <td>    0.064</td> <td>    0.628</td> <td> 0.530</td> <td>   -0.085</td> <td>    0.165</td>\n",
       "</tr>\n",
       "<tr>\n",
       "  <th>Age</th>                                 <td>    0.0035</td> <td>    0.007</td> <td>    0.521</td> <td> 0.603</td> <td>   -0.010</td> <td>    0.017</td>\n",
       "</tr>\n",
       "<tr>\n",
       "  <th>Income</th>                              <td>-3.442e-06</td> <td> 4.84e-06</td> <td>   -0.710</td> <td> 0.477</td> <td>-1.29e-05</td> <td> 6.06e-06</td>\n",
       "</tr>\n",
       "<tr>\n",
       "  <th>ReAdmis</th>                             <td>   46.4505</td> <td>    0.287</td> <td>  162.028</td> <td> 0.000</td> <td>   45.889</td> <td>   47.012</td>\n",
       "</tr>\n",
       "<tr>\n",
       "  <th>VitD_levels</th>                         <td>   -0.0775</td> <td>    0.069</td> <td>   -1.130</td> <td> 0.259</td> <td>   -0.212</td> <td>    0.057</td>\n",
       "</tr>\n",
       "<tr>\n",
       "  <th>Doc_visits</th>                          <td>   -0.1714</td> <td>    0.132</td> <td>   -1.297</td> <td> 0.195</td> <td>   -0.430</td> <td>    0.088</td>\n",
       "</tr>\n",
       "<tr>\n",
       "  <th>vitD_supp</th>                           <td>    0.2924</td> <td>    0.220</td> <td>    1.331</td> <td> 0.183</td> <td>   -0.138</td> <td>    0.723</td>\n",
       "</tr>\n",
       "<tr>\n",
       "  <th>HighBlood</th>                           <td>   -0.4475</td> <td>    0.281</td> <td>   -1.592</td> <td> 0.111</td> <td>   -0.998</td> <td>    0.103</td>\n",
       "</tr>\n",
       "<tr>\n",
       "  <th>Stroke</th>                              <td>   -0.2008</td> <td>    0.346</td> <td>   -0.581</td> <td> 0.561</td> <td>   -0.878</td> <td>    0.477</td>\n",
       "</tr>\n",
       "<tr>\n",
       "  <th>Complication_risk</th>                   <td>   -0.3944</td> <td>    0.189</td> <td>   -2.084</td> <td> 0.037</td> <td>   -0.765</td> <td>   -0.023</td>\n",
       "</tr>\n",
       "<tr>\n",
       "  <th>Overweight</th>                          <td>   -0.2090</td> <td>    0.304</td> <td>   -0.687</td> <td> 0.492</td> <td>   -0.805</td> <td>    0.387</td>\n",
       "</tr>\n",
       "<tr>\n",
       "  <th>Arthritis</th>                           <td>    0.6649</td> <td>    0.288</td> <td>    2.305</td> <td> 0.021</td> <td>    0.100</td> <td>    1.230</td>\n",
       "</tr>\n",
       "<tr>\n",
       "  <th>Diabetes</th>                            <td>    0.0132</td> <td>    0.310</td> <td>    0.042</td> <td> 0.966</td> <td>   -0.595</td> <td>    0.621</td>\n",
       "</tr>\n",
       "<tr>\n",
       "  <th>Hyperlipidemia</th>                      <td>   -0.3959</td> <td>    0.292</td> <td>   -1.354</td> <td> 0.176</td> <td>   -0.969</td> <td>    0.177</td>\n",
       "</tr>\n",
       "<tr>\n",
       "  <th>BackPain</th>                            <td>    0.3505</td> <td>    0.281</td> <td>    1.247</td> <td> 0.213</td> <td>   -0.201</td> <td>    0.902</td>\n",
       "</tr>\n",
       "<tr>\n",
       "  <th>Anxiety</th>                             <td>    0.5303</td> <td>    0.296</td> <td>    1.793</td> <td> 0.073</td> <td>   -0.049</td> <td>    1.110</td>\n",
       "</tr>\n",
       "<tr>\n",
       "  <th>Allergic_rhinitis</th>                   <td>    0.4092</td> <td>    0.283</td> <td>    1.447</td> <td> 0.148</td> <td>   -0.145</td> <td>    0.963</td>\n",
       "</tr>\n",
       "<tr>\n",
       "  <th>Reflux_esophagitis</th>                  <td>    0.4223</td> <td>    0.281</td> <td>    1.505</td> <td> 0.132</td> <td>   -0.128</td> <td>    0.972</td>\n",
       "</tr>\n",
       "<tr>\n",
       "  <th>Asthma</th>                              <td>    0.0406</td> <td>    0.305</td> <td>    0.133</td> <td> 0.894</td> <td>   -0.557</td> <td>    0.638</td>\n",
       "</tr>\n",
       "<tr>\n",
       "  <th>S_T_Admission</th>                       <td>    0.4003</td> <td>    0.199</td> <td>    2.013</td> <td> 0.044</td> <td>    0.010</td> <td>    0.790</td>\n",
       "</tr>\n",
       "<tr>\n",
       "  <th>S_T_Treatment</th>                       <td>    0.1342</td> <td>    0.183</td> <td>    0.732</td> <td> 0.464</td> <td>   -0.225</td> <td>    0.494</td>\n",
       "</tr>\n",
       "<tr>\n",
       "  <th>S_T_Visits</th>                          <td>   -0.1296</td> <td>    0.169</td> <td>   -0.765</td> <td> 0.444</td> <td>   -0.462</td> <td>    0.202</td>\n",
       "</tr>\n",
       "<tr>\n",
       "  <th>S_Reliability</th>                       <td>    0.3911</td> <td>    0.151</td> <td>    2.592</td> <td> 0.010</td> <td>    0.095</td> <td>    0.687</td>\n",
       "</tr>\n",
       "<tr>\n",
       "  <th>S_Options</th>                           <td>    0.0093</td> <td>    0.159</td> <td>    0.058</td> <td> 0.953</td> <td>   -0.302</td> <td>    0.321</td>\n",
       "</tr>\n",
       "<tr>\n",
       "  <th>S_Hours_Treatment</th>                   <td>   -0.2056</td> <td>    0.164</td> <td>   -1.254</td> <td> 0.210</td> <td>   -0.527</td> <td>    0.116</td>\n",
       "</tr>\n",
       "<tr>\n",
       "  <th>S_Staff</th>                             <td>   -0.2466</td> <td>    0.154</td> <td>   -1.596</td> <td> 0.110</td> <td>   -0.549</td> <td>    0.056</td>\n",
       "</tr>\n",
       "<tr>\n",
       "  <th>S_Active_Listening</th>                  <td>   -0.1981</td> <td>    0.145</td> <td>   -1.362</td> <td> 0.173</td> <td>   -0.483</td> <td>    0.087</td>\n",
       "</tr>\n",
       "<tr>\n",
       "  <th>Area_Suburban</th>                       <td>    0.1602</td> <td>    0.338</td> <td>    0.475</td> <td> 0.635</td> <td>   -0.501</td> <td>    0.822</td>\n",
       "</tr>\n",
       "<tr>\n",
       "  <th>Area_Urban</th>                          <td>    0.3731</td> <td>    0.339</td> <td>    1.102</td> <td> 0.271</td> <td>   -0.291</td> <td>    1.037</td>\n",
       "</tr>\n",
       "<tr>\n",
       "  <th>Marital_Married</th>                     <td>   -0.0263</td> <td>    0.438</td> <td>   -0.060</td> <td> 0.952</td> <td>   -0.885</td> <td>    0.832</td>\n",
       "</tr>\n",
       "<tr>\n",
       "  <th>Marital_Never Married</th>               <td>    0.4302</td> <td>    0.440</td> <td>    0.977</td> <td> 0.328</td> <td>   -0.433</td> <td>    1.293</td>\n",
       "</tr>\n",
       "<tr>\n",
       "  <th>Marital_Separated</th>                   <td>    0.7953</td> <td>    0.440</td> <td>    1.809</td> <td> 0.070</td> <td>   -0.066</td> <td>    1.657</td>\n",
       "</tr>\n",
       "<tr>\n",
       "  <th>Marital_Widowed</th>                     <td>    0.2762</td> <td>    0.437</td> <td>    0.632</td> <td> 0.527</td> <td>   -0.580</td> <td>    1.132</td>\n",
       "</tr>\n",
       "<tr>\n",
       "  <th>Gender_Male</th>                         <td>   -0.0963</td> <td>    0.279</td> <td>   -0.344</td> <td> 0.731</td> <td>   -0.644</td> <td>    0.452</td>\n",
       "</tr>\n",
       "<tr>\n",
       "  <th>Gender_Nonbinary</th>                    <td>   -0.2836</td> <td>    0.964</td> <td>   -0.294</td> <td> 0.769</td> <td>   -2.174</td> <td>    1.606</td>\n",
       "</tr>\n",
       "<tr>\n",
       "  <th>Initial_admin_Emergency Admission</th>   <td>   -1.6011</td> <td>    0.338</td> <td>   -4.741</td> <td> 0.000</td> <td>   -2.263</td> <td>   -0.939</td>\n",
       "</tr>\n",
       "<tr>\n",
       "  <th>Initial_admin_Observation Admission</th> <td>   -0.2463</td> <td>    0.393</td> <td>   -0.626</td> <td> 0.531</td> <td>   -1.018</td> <td>    0.525</td>\n",
       "</tr>\n",
       "</table>\n",
       "<table class=\"simpletable\">\n",
       "<tr>\n",
       "  <th>Omnibus:</th>       <td>1948.374</td> <th>  Durbin-Watson:     </th> <td>   1.272</td>\n",
       "</tr>\n",
       "<tr>\n",
       "  <th>Prob(Omnibus):</th>  <td> 0.000</td>  <th>  Jarque-Bera (JB):  </th> <td>3298.126</td>\n",
       "</tr>\n",
       "<tr>\n",
       "  <th>Skew:</th>           <td> 1.318</td>  <th>  Prob(JB):          </th> <td>    0.00</td>\n",
       "</tr>\n",
       "<tr>\n",
       "  <th>Kurtosis:</th>       <td> 3.983</td>  <th>  Cond. No.          </th> <td>8.88e+05</td>\n",
       "</tr>\n",
       "</table><br/><br/>Notes:<br/>[1] Standard Errors assume that the covariance matrix of the errors is correctly specified.<br/>[2] The condition number is large, 8.88e+05. This might indicate that there are<br/>strong multicollinearity or other numerical problems."
      ],
      "text/latex": [
       "\\begin{center}\n",
       "\\begin{tabular}{lclc}\n",
       "\\toprule\n",
       "\\textbf{Dep. Variable:}                        &  Initial\\_days   & \\textbf{  R-squared:         } &     0.726   \\\\\n",
       "\\textbf{Model:}                                &       OLS        & \\textbf{  Adj. R-squared:    } &     0.725   \\\\\n",
       "\\textbf{Method:}                               &  Least Squares   & \\textbf{  F-statistic:       } &     714.1   \\\\\n",
       "\\textbf{Date:}                                 & Thu, 21 Mar 2024 & \\textbf{  Prob (F-statistic):} &     0.00    \\\\\n",
       "\\textbf{Time:}                                 &     04:10:42     & \\textbf{  Log-Likelihood:    } &   -40411.   \\\\\n",
       "\\textbf{No. Observations:}                     &       10000      & \\textbf{  AIC:               } & 8.090e+04   \\\\\n",
       "\\textbf{Df Residuals:}                         &        9962      & \\textbf{  BIC:               } & 8.117e+04   \\\\\n",
       "\\textbf{Df Model:}                             &          37      & \\textbf{                     } &             \\\\\n",
       "\\textbf{Covariance Type:}                      &    nonrobust     & \\textbf{                     } &             \\\\\n",
       "\\bottomrule\n",
       "\\end{tabular}\n",
       "\\begin{tabular}{lcccccc}\n",
       "                                               & \\textbf{coef} & \\textbf{std err} & \\textbf{t} & \\textbf{P$> |$t$|$} & \\textbf{[0.025} & \\textbf{0.975]}  \\\\\n",
       "\\midrule\n",
       "\\textbf{const}                                 &      19.4602  &        2.467     &     7.889  &         0.000        &       14.625    &       24.295     \\\\\n",
       "\\textbf{Children}                              &       0.0401  &        0.064     &     0.628  &         0.530        &       -0.085    &        0.165     \\\\\n",
       "\\textbf{Age}                                   &       0.0035  &        0.007     &     0.521  &         0.603        &       -0.010    &        0.017     \\\\\n",
       "\\textbf{Income}                                &   -3.442e-06  &     4.84e-06     &    -0.710  &         0.477        &    -1.29e-05    &     6.06e-06     \\\\\n",
       "\\textbf{ReAdmis}                               &      46.4505  &        0.287     &   162.028  &         0.000        &       45.889    &       47.012     \\\\\n",
       "\\textbf{VitD\\_levels}                          &      -0.0775  &        0.069     &    -1.130  &         0.259        &       -0.212    &        0.057     \\\\\n",
       "\\textbf{Doc\\_visits}                           &      -0.1714  &        0.132     &    -1.297  &         0.195        &       -0.430    &        0.088     \\\\\n",
       "\\textbf{vitD\\_supp}                            &       0.2924  &        0.220     &     1.331  &         0.183        &       -0.138    &        0.723     \\\\\n",
       "\\textbf{HighBlood}                             &      -0.4475  &        0.281     &    -1.592  &         0.111        &       -0.998    &        0.103     \\\\\n",
       "\\textbf{Stroke}                                &      -0.2008  &        0.346     &    -0.581  &         0.561        &       -0.878    &        0.477     \\\\\n",
       "\\textbf{Complication\\_risk}                    &      -0.3944  &        0.189     &    -2.084  &         0.037        &       -0.765    &       -0.023     \\\\\n",
       "\\textbf{Overweight}                            &      -0.2090  &        0.304     &    -0.687  &         0.492        &       -0.805    &        0.387     \\\\\n",
       "\\textbf{Arthritis}                             &       0.6649  &        0.288     &     2.305  &         0.021        &        0.100    &        1.230     \\\\\n",
       "\\textbf{Diabetes}                              &       0.0132  &        0.310     &     0.042  &         0.966        &       -0.595    &        0.621     \\\\\n",
       "\\textbf{Hyperlipidemia}                        &      -0.3959  &        0.292     &    -1.354  &         0.176        &       -0.969    &        0.177     \\\\\n",
       "\\textbf{BackPain}                              &       0.3505  &        0.281     &     1.247  &         0.213        &       -0.201    &        0.902     \\\\\n",
       "\\textbf{Anxiety}                               &       0.5303  &        0.296     &     1.793  &         0.073        &       -0.049    &        1.110     \\\\\n",
       "\\textbf{Allergic\\_rhinitis}                    &       0.4092  &        0.283     &     1.447  &         0.148        &       -0.145    &        0.963     \\\\\n",
       "\\textbf{Reflux\\_esophagitis}                   &       0.4223  &        0.281     &     1.505  &         0.132        &       -0.128    &        0.972     \\\\\n",
       "\\textbf{Asthma}                                &       0.0406  &        0.305     &     0.133  &         0.894        &       -0.557    &        0.638     \\\\\n",
       "\\textbf{S\\_T\\_Admission}                       &       0.4003  &        0.199     &     2.013  &         0.044        &        0.010    &        0.790     \\\\\n",
       "\\textbf{S\\_T\\_Treatment}                       &       0.1342  &        0.183     &     0.732  &         0.464        &       -0.225    &        0.494     \\\\\n",
       "\\textbf{S\\_T\\_Visits}                          &      -0.1296  &        0.169     &    -0.765  &         0.444        &       -0.462    &        0.202     \\\\\n",
       "\\textbf{S\\_Reliability}                        &       0.3911  &        0.151     &     2.592  &         0.010        &        0.095    &        0.687     \\\\\n",
       "\\textbf{S\\_Options}                            &       0.0093  &        0.159     &     0.058  &         0.953        &       -0.302    &        0.321     \\\\\n",
       "\\textbf{S\\_Hours\\_Treatment}                   &      -0.2056  &        0.164     &    -1.254  &         0.210        &       -0.527    &        0.116     \\\\\n",
       "\\textbf{S\\_Staff}                              &      -0.2466  &        0.154     &    -1.596  &         0.110        &       -0.549    &        0.056     \\\\\n",
       "\\textbf{S\\_Active\\_Listening}                  &      -0.1981  &        0.145     &    -1.362  &         0.173        &       -0.483    &        0.087     \\\\\n",
       "\\textbf{Area\\_Suburban}                        &       0.1602  &        0.338     &     0.475  &         0.635        &       -0.501    &        0.822     \\\\\n",
       "\\textbf{Area\\_Urban}                           &       0.3731  &        0.339     &     1.102  &         0.271        &       -0.291    &        1.037     \\\\\n",
       "\\textbf{Marital\\_Married}                      &      -0.0263  &        0.438     &    -0.060  &         0.952        &       -0.885    &        0.832     \\\\\n",
       "\\textbf{Marital\\_Never Married}                &       0.4302  &        0.440     &     0.977  &         0.328        &       -0.433    &        1.293     \\\\\n",
       "\\textbf{Marital\\_Separated}                    &       0.7953  &        0.440     &     1.809  &         0.070        &       -0.066    &        1.657     \\\\\n",
       "\\textbf{Marital\\_Widowed}                      &       0.2762  &        0.437     &     0.632  &         0.527        &       -0.580    &        1.132     \\\\\n",
       "\\textbf{Gender\\_Male}                          &      -0.0963  &        0.279     &    -0.344  &         0.731        &       -0.644    &        0.452     \\\\\n",
       "\\textbf{Gender\\_Nonbinary}                     &      -0.2836  &        0.964     &    -0.294  &         0.769        &       -2.174    &        1.606     \\\\\n",
       "\\textbf{Initial\\_admin\\_Emergency Admission}   &      -1.6011  &        0.338     &    -4.741  &         0.000        &       -2.263    &       -0.939     \\\\\n",
       "\\textbf{Initial\\_admin\\_Observation Admission} &      -0.2463  &        0.393     &    -0.626  &         0.531        &       -1.018    &        0.525     \\\\\n",
       "\\bottomrule\n",
       "\\end{tabular}\n",
       "\\begin{tabular}{lclc}\n",
       "\\textbf{Omnibus:}       & 1948.374 & \\textbf{  Durbin-Watson:     } &    1.272  \\\\\n",
       "\\textbf{Prob(Omnibus):} &   0.000  & \\textbf{  Jarque-Bera (JB):  } & 3298.126  \\\\\n",
       "\\textbf{Skew:}          &   1.318  & \\textbf{  Prob(JB):          } &     0.00  \\\\\n",
       "\\textbf{Kurtosis:}      &   3.983  & \\textbf{  Cond. No.          } & 8.88e+05  \\\\\n",
       "\\bottomrule\n",
       "\\end{tabular}\n",
       "%\\caption{OLS Regression Results}\n",
       "\\end{center}\n",
       "\n",
       "Notes: \\newline\n",
       " [1] Standard Errors assume that the covariance matrix of the errors is correctly specified. \\newline\n",
       " [2] The condition number is large, 8.88e+05. This might indicate that there are \\newline\n",
       " strong multicollinearity or other numerical problems."
      ],
      "text/plain": [
       "<class 'statsmodels.iolib.summary.Summary'>\n",
       "\"\"\"\n",
       "                            OLS Regression Results                            \n",
       "==============================================================================\n",
       "Dep. Variable:           Initial_days   R-squared:                       0.726\n",
       "Model:                            OLS   Adj. R-squared:                  0.725\n",
       "Method:                 Least Squares   F-statistic:                     714.1\n",
       "Date:                Thu, 21 Mar 2024   Prob (F-statistic):               0.00\n",
       "Time:                        04:10:42   Log-Likelihood:                -40411.\n",
       "No. Observations:               10000   AIC:                         8.090e+04\n",
       "Df Residuals:                    9962   BIC:                         8.117e+04\n",
       "Df Model:                          37                                         \n",
       "Covariance Type:            nonrobust                                         \n",
       "=======================================================================================================\n",
       "                                          coef    std err          t      P>|t|      [0.025      0.975]\n",
       "-------------------------------------------------------------------------------------------------------\n",
       "const                                  19.4602      2.467      7.889      0.000      14.625      24.295\n",
       "Children                                0.0401      0.064      0.628      0.530      -0.085       0.165\n",
       "Age                                     0.0035      0.007      0.521      0.603      -0.010       0.017\n",
       "Income                              -3.442e-06   4.84e-06     -0.710      0.477   -1.29e-05    6.06e-06\n",
       "ReAdmis                                46.4505      0.287    162.028      0.000      45.889      47.012\n",
       "VitD_levels                            -0.0775      0.069     -1.130      0.259      -0.212       0.057\n",
       "Doc_visits                             -0.1714      0.132     -1.297      0.195      -0.430       0.088\n",
       "vitD_supp                               0.2924      0.220      1.331      0.183      -0.138       0.723\n",
       "HighBlood                              -0.4475      0.281     -1.592      0.111      -0.998       0.103\n",
       "Stroke                                 -0.2008      0.346     -0.581      0.561      -0.878       0.477\n",
       "Complication_risk                      -0.3944      0.189     -2.084      0.037      -0.765      -0.023\n",
       "Overweight                             -0.2090      0.304     -0.687      0.492      -0.805       0.387\n",
       "Arthritis                               0.6649      0.288      2.305      0.021       0.100       1.230\n",
       "Diabetes                                0.0132      0.310      0.042      0.966      -0.595       0.621\n",
       "Hyperlipidemia                         -0.3959      0.292     -1.354      0.176      -0.969       0.177\n",
       "BackPain                                0.3505      0.281      1.247      0.213      -0.201       0.902\n",
       "Anxiety                                 0.5303      0.296      1.793      0.073      -0.049       1.110\n",
       "Allergic_rhinitis                       0.4092      0.283      1.447      0.148      -0.145       0.963\n",
       "Reflux_esophagitis                      0.4223      0.281      1.505      0.132      -0.128       0.972\n",
       "Asthma                                  0.0406      0.305      0.133      0.894      -0.557       0.638\n",
       "S_T_Admission                           0.4003      0.199      2.013      0.044       0.010       0.790\n",
       "S_T_Treatment                           0.1342      0.183      0.732      0.464      -0.225       0.494\n",
       "S_T_Visits                             -0.1296      0.169     -0.765      0.444      -0.462       0.202\n",
       "S_Reliability                           0.3911      0.151      2.592      0.010       0.095       0.687\n",
       "S_Options                               0.0093      0.159      0.058      0.953      -0.302       0.321\n",
       "S_Hours_Treatment                      -0.2056      0.164     -1.254      0.210      -0.527       0.116\n",
       "S_Staff                                -0.2466      0.154     -1.596      0.110      -0.549       0.056\n",
       "S_Active_Listening                     -0.1981      0.145     -1.362      0.173      -0.483       0.087\n",
       "Area_Suburban                           0.1602      0.338      0.475      0.635      -0.501       0.822\n",
       "Area_Urban                              0.3731      0.339      1.102      0.271      -0.291       1.037\n",
       "Marital_Married                        -0.0263      0.438     -0.060      0.952      -0.885       0.832\n",
       "Marital_Never Married                   0.4302      0.440      0.977      0.328      -0.433       1.293\n",
       "Marital_Separated                       0.7953      0.440      1.809      0.070      -0.066       1.657\n",
       "Marital_Widowed                         0.2762      0.437      0.632      0.527      -0.580       1.132\n",
       "Gender_Male                            -0.0963      0.279     -0.344      0.731      -0.644       0.452\n",
       "Gender_Nonbinary                       -0.2836      0.964     -0.294      0.769      -2.174       1.606\n",
       "Initial_admin_Emergency Admission      -1.6011      0.338     -4.741      0.000      -2.263      -0.939\n",
       "Initial_admin_Observation Admission    -0.2463      0.393     -0.626      0.531      -1.018       0.525\n",
       "==============================================================================\n",
       "Omnibus:                     1948.374   Durbin-Watson:                   1.272\n",
       "Prob(Omnibus):                  0.000   Jarque-Bera (JB):             3298.126\n",
       "Skew:                           1.318   Prob(JB):                         0.00\n",
       "Kurtosis:                       3.983   Cond. No.                     8.88e+05\n",
       "==============================================================================\n",
       "\n",
       "Notes:\n",
       "[1] Standard Errors assume that the covariance matrix of the errors is correctly specified.\n",
       "[2] The condition number is large, 8.88e+05. This might indicate that there are\n",
       "strong multicollinearity or other numerical problems.\n",
       "\"\"\""
      ]
     },
     "execution_count": 66,
     "metadata": {},
     "output_type": "execute_result"
    }
   ],
   "source": [
    "# create a muultiple regression model using df and ols and 'Initial_days' as the dependent variable and all other variables in the dataset as independent variables\n",
    "X = df.drop('Initial_days', axis=1)\n",
    "Y = df['Initial_days']\n",
    "X = sm.add_constant(X)\n",
    "model = sm.OLS(Y, X).fit()\n",
    "predictions = model.predict(X)\n",
    "model_summary = model.summary()\n",
    "\n",
    "model_summary\n"
   ]
  },
  {
   "cell_type": "code",
   "execution_count": 46,
   "metadata": {},
   "outputs": [],
   "source": [
    "\n",
    "# wriet the model summary to a file\n",
    "with open('model_summary.txt', 'w') as file:\n",
    "    file.write(model_summary.as_text())\n",
    "    "
   ]
  },
  {
   "cell_type": "markdown",
   "metadata": {},
   "source": [
    "Model Fit:\n",
    "\n",
    "The R-squared is 0.726, meaning that approximately 72.6% of the variability in Initial_days is explained by the model, which is a suprisingly high.\n",
    "The F-statistic is 695.4 with a Prob (F-statistic) of 0.00, suggesting that the model is statistically significant overall.\n",
    "Variable Significance:\n",
    "\n",
    "Many predictor variables have high t-values and low p-values (P>|t|), indicating that they are statistically significant. For example, ReAdmis has a very low p-value, suggesting a strong association with Initial_days.\n",
    "However, variables such as Children, Age, Income, and others have high p-values, indicating that they might not be significant predictors of Initial_days in the presence of other variables.\n",
    "\n",
    "Coefficients:\n",
    "The const coefficient (intercept) is 19.5835, which represents the expected value of Initial_days when all other predictors are held at zero.\n",
    "Variables like ReAdmis show a strong positive relationship with Initial_days, increasing the predicted value by 46.4461 days, holding all else constant.\n",
    "\n",
    "Issues:\n",
    "The note on multicollinearity \"[2] The condition number is large, 8.89e+05. This might indicate that there are\n",
    "strong multicollinearity or other numerical problems.\" indicates that there might be high correlation between some predictors, which can inflate the variance of the coefficient estimates and make the model unstable. This needs to be addressed. Variance inflation factor (VIF) analysis will be used to identify and remove highly correlated predictors."
   ]
  },
  {
   "cell_type": "code",
   "execution_count": 37,
   "metadata": {},
   "outputs": [
    {
     "name": "stdout",
     "output_type": "stream",
     "text": [
      "                              variables         VIF\n",
      "0                                 const  320.396922\n",
      "1                              Children    1.004217\n",
      "2                                   Age    1.003896\n",
      "3                                Income    1.003759\n",
      "4                               ReAdmis    1.003758\n",
      "5                           VitD_levels    1.006310\n",
      "6                            Doc_visits    1.003559\n",
      "7                      Full_meals_eaten    1.004210\n",
      "8                             vitD_supp    1.003464\n",
      "9                             HighBlood    1.004051\n",
      "10                               Stroke    1.002040\n",
      "11                    Complication_risk    1.003823\n",
      "12                           Overweight    1.003268\n",
      "13                            Arthritis    1.004486\n",
      "14                             Diabetes    1.004979\n",
      "15                       Hyperlipidemia    1.005034\n",
      "16                             BackPain    1.006186\n",
      "17                              Anxiety    1.003108\n",
      "18                    Allergic_rhinitis    1.003723\n",
      "19                   Reflux_esophagitis    1.004396\n",
      "20                               Asthma    1.004040\n",
      "21                        S_T_Admission    2.213928\n",
      "22                        S_T_Treatment    1.895090\n",
      "23                           S_T_Visits    1.608151\n",
      "24                        S_Reliability    1.284923\n",
      "25                            S_Options    1.410353\n",
      "26                    S_Hours_Treatment    1.507029\n",
      "27                              S_Staff    1.308549\n",
      "28                   S_Active_Listening    1.209159\n",
      "29                        Area_Suburban    1.329990\n",
      "30                           Area_Urban    1.333423\n",
      "31                      Marital_Married    1.628389\n",
      "32                Marital_Never Married    1.619701\n",
      "33                    Marital_Separated    1.617942\n",
      "34                      Marital_Widowed    1.631673\n",
      "35                          Gender_Male    1.024486\n",
      "36                     Gender_Nonbinary    1.023451\n",
      "37    Initial_admin_Emergency Admission    1.498831\n",
      "38  Initial_admin_Observation Admission    1.499698\n"
     ]
    }
   ],
   "source": [
    "# perform VIF analysis to check for multicollinearity\n",
    "X = add_constant(X)\n",
    "vif = pd.DataFrame()\n",
    "vif[\"variables\"] = X.columns\n",
    "vif[\"VIF\"] = [variance_inflation_factor(X.values, i) for i in range(X.shape[1])]\n",
    "print(vif)"
   ]
  },
  {
   "cell_type": "markdown",
   "metadata": {},
   "source": [
    "From the VIF analysis, most variables have VIF values well below 5, indicating no significant multicollinearity among them. which is suprising given the message we got from the model summary: \"[2] The condition number is large, 8.89e+05. This might indicate that there are\n",
    "strong multicollinearity or other numerical problems.\" The highest VIF values are observed for `S_T_Admission`, `S_T_Treatment`, and `marital` status categories, but even these do not exceed the threshold of 5, suggesting moderate correlation at most. \n",
    "\n",
    "\n",
    "Additionally, the R squared value is very high, which is also suprising given the message we got from the model summary. \n",
    "\n",
    "So in this case, I will go with what the data is telling me. Here simply note the VIF scores and the message and rely on p-values to remove predictors that are not significant. Initially, I was going to use stepwise regression to remove predictors that are not significant, but given the high R squared value and the low VIF scores, I will simply remove predictors that have a p-value greater than 0.05 and see how that affects the model.\n",
    "\n",
    "P-values which are greater than 0.05 will be removed from the model."
   ]
  },
  {
   "cell_type": "code",
   "execution_count": 40,
   "metadata": {},
   "outputs": [
    {
     "name": "stdout",
     "output_type": "stream",
     "text": [
      "Significant variables: ['ReAdmis', 'Complication_risk', 'Arthritis', 'S_T_Admission', 'S_Reliability', 'Initial_admin_Emergency Admission']\n"
     ]
    },
    {
     "data": {
      "text/html": [
       "<table class=\"simpletable\">\n",
       "<caption>OLS Regression Results</caption>\n",
       "<tr>\n",
       "  <th>Dep. Variable:</th>      <td>Initial_days</td>   <th>  R-squared:         </th> <td>   0.725</td> \n",
       "</tr>\n",
       "<tr>\n",
       "  <th>Model:</th>                   <td>OLS</td>       <th>  Adj. R-squared:    </th> <td>   0.725</td> \n",
       "</tr>\n",
       "<tr>\n",
       "  <th>Method:</th>             <td>Least Squares</td>  <th>  F-statistic:       </th> <td>   4395.</td> \n",
       "</tr>\n",
       "<tr>\n",
       "  <th>Date:</th>             <td>Thu, 21 Mar 2024</td> <th>  Prob (F-statistic):</th>  <td>  0.00</td>  \n",
       "</tr>\n",
       "<tr>\n",
       "  <th>Time:</th>                 <td>03:05:40</td>     <th>  Log-Likelihood:    </th> <td> -40430.</td> \n",
       "</tr>\n",
       "<tr>\n",
       "  <th>No. Observations:</th>      <td> 10000</td>      <th>  AIC:               </th> <td>8.087e+04</td>\n",
       "</tr>\n",
       "<tr>\n",
       "  <th>Df Residuals:</th>          <td>  9993</td>      <th>  BIC:               </th> <td>8.092e+04</td>\n",
       "</tr>\n",
       "<tr>\n",
       "  <th>Df Model:</th>              <td>     6</td>      <th>                     </th>     <td> </td>    \n",
       "</tr>\n",
       "<tr>\n",
       "  <th>Covariance Type:</th>      <td>nonrobust</td>    <th>                     </th>     <td> </td>    \n",
       "</tr>\n",
       "</table>\n",
       "<table class=\"simpletable\">\n",
       "<tr>\n",
       "                  <td></td>                     <th>coef</th>     <th>std err</th>      <th>t</th>      <th>P>|t|</th>  <th>[0.025</th>    <th>0.975]</th>  \n",
       "</tr>\n",
       "<tr>\n",
       "  <th>const</th>                             <td>   16.3363</td> <td>    1.145</td> <td>   14.270</td> <td> 0.000</td> <td>   14.092</td> <td>   18.580</td>\n",
       "</tr>\n",
       "<tr>\n",
       "  <th>ReAdmis</th>                           <td>   46.4601</td> <td>    0.286</td> <td>  162.246</td> <td> 0.000</td> <td>   45.899</td> <td>   47.021</td>\n",
       "</tr>\n",
       "<tr>\n",
       "  <th>Complication_risk</th>                 <td>   -0.4047</td> <td>    0.189</td> <td>   -2.141</td> <td> 0.032</td> <td>   -0.775</td> <td>   -0.034</td>\n",
       "</tr>\n",
       "<tr>\n",
       "  <th>Arthritis</th>                         <td>    0.6671</td> <td>    0.288</td> <td>    2.317</td> <td> 0.021</td> <td>    0.103</td> <td>    1.231</td>\n",
       "</tr>\n",
       "<tr>\n",
       "  <th>S_T_Admission</th>                     <td>    0.1899</td> <td>    0.134</td> <td>    1.420</td> <td> 0.156</td> <td>   -0.072</td> <td>    0.452</td>\n",
       "</tr>\n",
       "<tr>\n",
       "  <th>S_Reliability</th>                     <td>    0.2554</td> <td>    0.133</td> <td>    1.918</td> <td> 0.055</td> <td>   -0.006</td> <td>    0.516</td>\n",
       "</tr>\n",
       "<tr>\n",
       "  <th>Initial_admin_Emergency Admission</th> <td>   -1.4783</td> <td>    0.276</td> <td>   -5.356</td> <td> 0.000</td> <td>   -2.019</td> <td>   -0.937</td>\n",
       "</tr>\n",
       "</table>\n",
       "<table class=\"simpletable\">\n",
       "<tr>\n",
       "  <th>Omnibus:</th>       <td>1967.261</td> <th>  Durbin-Watson:     </th> <td>   1.269</td>\n",
       "</tr>\n",
       "<tr>\n",
       "  <th>Prob(Omnibus):</th>  <td> 0.000</td>  <th>  Jarque-Bera (JB):  </th> <td>3346.476</td>\n",
       "</tr>\n",
       "<tr>\n",
       "  <th>Skew:</th>           <td> 1.326</td>  <th>  Prob(JB):          </th> <td>    0.00</td>\n",
       "</tr>\n",
       "<tr>\n",
       "  <th>Kurtosis:</th>       <td> 3.997</td>  <th>  Cond. No.          </th> <td>    68.6</td>\n",
       "</tr>\n",
       "</table><br/><br/>Notes:<br/>[1] Standard Errors assume that the covariance matrix of the errors is correctly specified."
      ],
      "text/latex": [
       "\\begin{center}\n",
       "\\begin{tabular}{lclc}\n",
       "\\toprule\n",
       "\\textbf{Dep. Variable:}                      &  Initial\\_days   & \\textbf{  R-squared:         } &     0.725   \\\\\n",
       "\\textbf{Model:}                              &       OLS        & \\textbf{  Adj. R-squared:    } &     0.725   \\\\\n",
       "\\textbf{Method:}                             &  Least Squares   & \\textbf{  F-statistic:       } &     4395.   \\\\\n",
       "\\textbf{Date:}                               & Thu, 21 Mar 2024 & \\textbf{  Prob (F-statistic):} &     0.00    \\\\\n",
       "\\textbf{Time:}                               &     03:05:40     & \\textbf{  Log-Likelihood:    } &   -40430.   \\\\\n",
       "\\textbf{No. Observations:}                   &       10000      & \\textbf{  AIC:               } & 8.087e+04   \\\\\n",
       "\\textbf{Df Residuals:}                       &        9993      & \\textbf{  BIC:               } & 8.092e+04   \\\\\n",
       "\\textbf{Df Model:}                           &           6      & \\textbf{                     } &             \\\\\n",
       "\\textbf{Covariance Type:}                    &    nonrobust     & \\textbf{                     } &             \\\\\n",
       "\\bottomrule\n",
       "\\end{tabular}\n",
       "\\begin{tabular}{lcccccc}\n",
       "                                             & \\textbf{coef} & \\textbf{std err} & \\textbf{t} & \\textbf{P$> |$t$|$} & \\textbf{[0.025} & \\textbf{0.975]}  \\\\\n",
       "\\midrule\n",
       "\\textbf{const}                               &      16.3363  &        1.145     &    14.270  &         0.000        &       14.092    &       18.580     \\\\\n",
       "\\textbf{ReAdmis}                             &      46.4601  &        0.286     &   162.246  &         0.000        &       45.899    &       47.021     \\\\\n",
       "\\textbf{Complication\\_risk}                  &      -0.4047  &        0.189     &    -2.141  &         0.032        &       -0.775    &       -0.034     \\\\\n",
       "\\textbf{Arthritis}                           &       0.6671  &        0.288     &     2.317  &         0.021        &        0.103    &        1.231     \\\\\n",
       "\\textbf{S\\_T\\_Admission}                     &       0.1899  &        0.134     &     1.420  &         0.156        &       -0.072    &        0.452     \\\\\n",
       "\\textbf{S\\_Reliability}                      &       0.2554  &        0.133     &     1.918  &         0.055        &       -0.006    &        0.516     \\\\\n",
       "\\textbf{Initial\\_admin\\_Emergency Admission} &      -1.4783  &        0.276     &    -5.356  &         0.000        &       -2.019    &       -0.937     \\\\\n",
       "\\bottomrule\n",
       "\\end{tabular}\n",
       "\\begin{tabular}{lclc}\n",
       "\\textbf{Omnibus:}       & 1967.261 & \\textbf{  Durbin-Watson:     } &    1.269  \\\\\n",
       "\\textbf{Prob(Omnibus):} &   0.000  & \\textbf{  Jarque-Bera (JB):  } & 3346.476  \\\\\n",
       "\\textbf{Skew:}          &   1.326  & \\textbf{  Prob(JB):          } &     0.00  \\\\\n",
       "\\textbf{Kurtosis:}      &   3.997  & \\textbf{  Cond. No.          } &     68.6  \\\\\n",
       "\\bottomrule\n",
       "\\end{tabular}\n",
       "%\\caption{OLS Regression Results}\n",
       "\\end{center}\n",
       "\n",
       "Notes: \\newline\n",
       " [1] Standard Errors assume that the covariance matrix of the errors is correctly specified."
      ],
      "text/plain": [
       "<class 'statsmodels.iolib.summary.Summary'>\n",
       "\"\"\"\n",
       "                            OLS Regression Results                            \n",
       "==============================================================================\n",
       "Dep. Variable:           Initial_days   R-squared:                       0.725\n",
       "Model:                            OLS   Adj. R-squared:                  0.725\n",
       "Method:                 Least Squares   F-statistic:                     4395.\n",
       "Date:                Thu, 21 Mar 2024   Prob (F-statistic):               0.00\n",
       "Time:                        03:05:40   Log-Likelihood:                -40430.\n",
       "No. Observations:               10000   AIC:                         8.087e+04\n",
       "Df Residuals:                    9993   BIC:                         8.092e+04\n",
       "Df Model:                           6                                         \n",
       "Covariance Type:            nonrobust                                         \n",
       "=====================================================================================================\n",
       "                                        coef    std err          t      P>|t|      [0.025      0.975]\n",
       "-----------------------------------------------------------------------------------------------------\n",
       "const                                16.3363      1.145     14.270      0.000      14.092      18.580\n",
       "ReAdmis                              46.4601      0.286    162.246      0.000      45.899      47.021\n",
       "Complication_risk                    -0.4047      0.189     -2.141      0.032      -0.775      -0.034\n",
       "Arthritis                             0.6671      0.288      2.317      0.021       0.103       1.231\n",
       "S_T_Admission                         0.1899      0.134      1.420      0.156      -0.072       0.452\n",
       "S_Reliability                         0.2554      0.133      1.918      0.055      -0.006       0.516\n",
       "Initial_admin_Emergency Admission    -1.4783      0.276     -5.356      0.000      -2.019      -0.937\n",
       "==============================================================================\n",
       "Omnibus:                     1967.261   Durbin-Watson:                   1.269\n",
       "Prob(Omnibus):                  0.000   Jarque-Bera (JB):             3346.476\n",
       "Skew:                           1.326   Prob(JB):                         0.00\n",
       "Kurtosis:                       3.997   Cond. No.                         68.6\n",
       "==============================================================================\n",
       "\n",
       "Notes:\n",
       "[1] Standard Errors assume that the covariance matrix of the errors is correctly specified.\n",
       "\"\"\""
      ]
     },
     "execution_count": 40,
     "metadata": {},
     "output_type": "execute_result"
    }
   ],
   "source": [
    "# Identify the statistically significant variables\n",
    "significant_vars = model.pvalues[model.pvalues < 0.05].index.tolist()\n",
    "\n",
    "# Remove 'const' from the list as we manually add it for the intercept\n",
    "if 'const' in significant_vars:\n",
    "    significant_vars.remove('const')\n",
    "\n",
    "print('Significant variables:', significant_vars)\n",
    "\n",
    "# Create a reduced model with only significant variables\n",
    "X_reduced = X[significant_vars]\n",
    "\n",
    "# Fit the OLS model with reduced variables\n",
    "model_reduced = sm.OLS(Y, sm.add_constant(X_reduced)).fit()\n",
    "\n",
    "# Print the summary of the reduced model\n",
    "model_reduced.summary()\n"
   ]
  },
  {
   "cell_type": "code",
   "execution_count": 44,
   "metadata": {},
   "outputs": [
    {
     "data": {
      "image/png": "[encoded data removed]",
      "text/plain": [
       "<Figure size 640x480 with 1 Axes>"
      ]
     },
     "metadata": {},
     "output_type": "display_data"
    }
   ],
   "source": [
    "\n",
    "# Create a scatter plot of the actual vs predicted values of the dependent variable\n",
    "plt.scatter(Y, model_reduced.predict(sm.add_constant(X_reduced)))\n",
    "plt.xlabel('Actual')\n",
    "plt.ylabel('Predicted')\n",
    "plt.title('Actual vs Predicted Values')\n",
    "plt.show()\n"
   ]
  },
  {
   "cell_type": "code",
   "execution_count": 45,
   "metadata": {},
   "outputs": [
    {
     "data": {
      "image/png": "[encoded data removed]",
      "text/plain": [
       "<Figure size 640x480 with 1 Axes>"
      ]
     },
     "metadata": {},
     "output_type": "display_data"
    }
   ],
   "source": [
    "# cvhekc the normality of the residuals\n",
    "residuals = model_reduced.resid\n",
    "fig = sm.qqplot(residuals, line='s')\n",
    "plt.show()\n"
   ]
  },
  {
   "cell_type": "markdown",
   "metadata": {},
   "source": [
    "This model has an R-squared value of 0.728, indicating that approximately 72.8% of the variance in 'Initial_days' can be explained by the included predictors. This is nearly identical to the R-squared value of the full model, suggesting that the reduced model retains the explanatory power of the full model while being simpler and more focused on the most impactful variables.\n",
    "\n",
    "The significant predictors in this model include 'ReAdmis', 'Complication_risk', 'Arthritis', 'Anxiety', 'S_T_Admission', 'S_Reliability', 'S_Staff', and 'Initial_admin_Emergency Admission'. Each of these variables has a p-value less than 0.05, indicating they are statistically significant in predicting the initial days of hospitalization.\n",
    "\n",
    "This reduced model is more efficient and easier to interpret while maintaining a strong explanatory power, making it a valuable tool for understanding the factors that influence the initial days of hospitalization.\n",
    "\n"
   ]
  },
  {
   "cell_type": "code",
   "execution_count": 41,
   "metadata": {},
   "outputs": [
    {
     "data": {
      "image/png": "[encoded data removed]",
      "text/plain": [
       "<Figure size 640x480 with 1 Axes>"
      ]
     },
     "metadata": {},
     "output_type": "display_data"
    }
   ],
   "source": [
    "# create a visualization of the model\n",
    "plt.scatter(predictions, Y)\n",
    "plt.xlabel('Predicted')\n",
    "plt.ylabel('Actual')\n",
    "plt.show()\n"
   ]
  },
  {
   "cell_type": "code",
   "execution_count": 68,
   "metadata": {},
   "outputs": [
    {
     "data": {
      "image/png": "[encoded data removed]",
      "text/plain": [
       "<Figure size 640x480 with 1 Axes>"
      ]
     },
     "metadata": {},
     "output_type": "display_data"
    }
   ],
   "source": [
    "# create a residual plot\n",
    "plt.scatter(predictions, residuals)\n",
    "plt.axhline(y=0, color='black', linewidth=1)\n",
    "plt.xlabel('Predicted')\n",
    "plt.ylabel('Residuals')\n",
    "plt.title('Residual Plot')\n",
    "plt.show()\n",
    "\n",
    "\n",
    "# readmis"
   ]
  },
  {
   "cell_type": "markdown",
   "metadata": {},
   "source": [
    "### G & H: References\n",
    "\n",
    "- Western Governors University. (2023, December 21). D207 - Medical_clean Dataset. Retrieved from https://lrps.wgu.edu/provision/227079957\n",
    "\n",
    "- Western Governors University IT Department. (2023). R or Python? How to decide which programming language to learn. Retrieved from https://www.wgu.edu/online-it-degrees/programming-languages/r-or-python.html#\n",
    "\n",
    "- Datacamp. (2023, December 12). D207 - Exploratory Data Analysis. Retrieved from https://app.datacamp.com/learn/custom-tracks/custom-d207-exploratory-data-analysis \n",
    "\n",
    "- Sewell, Dr. (2023). WGU D207 Exploratory Data Analysis [Webinars]. WGU Webex. Accessed December, 2023. https://wgu.webex.com/webappng/sites/wgu/meeting/info/c4aca2eac546482880f1557c938abf40?siteurl=wgu&MTID=me73470c2eac9e863c6f47a3d5b6d2f26 \n",
    "\n",
    "- Seaborn Developers. (2023). seaborn.scatterplot — seaborn 0.11.2 documentation. Retrieved December 22, 2023, from https://seaborn.pydata.org/generated/seaborn.scatterplot.html\n",
    "\n",
    "OLD ABOVE _ DELETE?KEEP? as needed.\n",
    "\n",
    "- Statology. (n.d.). *The Five Assumptions of Multiple Linear Regression*. Statology. Retrieved March 10, 2024, from www.statology.org/multiple-linear-regression-assumptions/\n",
    "\n",
    "- Pennsylvania State University. (n.d.). *5.3 - The Multiple Linear Regression Model*. STAT 501. Retrieved March 10, 2024, from online.stat.psu.edu/stat501/lesson/5/5.3\n",
    "\n",
    "https://pandas.pydata.org/docs/reference/api/pandas.DataFrame.info.html\n",
    "\n"
   ]
  },
  {
   "cell_type": "markdown",
   "metadata": {},
   "source": []
  },
  {
   "cell_type": "code",
   "execution_count": 76,
   "metadata": {},
   "outputs": [],
   "source": [
    "import pandas as pd\n",
    "import numpy as np\n",
    "\n",
    "# Load the dataset\n",
    "df = pd.read_csv('medical_transformed.csv')\n",
    "\n",
    "# Calculate IQR for Initial_days\n",
    "Q1 = df['Initial_days'].quantile(0.25)\n",
    "Q3 = df['Initial_days'].quantile(0.75)\n",
    "IQR = Q3 - Q1\n",
    "\n",
    "# Define the upper and lower bounds for outliers using IQR\n",
    "lower_bound = Q1 - 1.5 * IQR\n",
    "upper_bound = Q3 + 1.5 * IQR\n",
    "\n",
    "# Filter out outliers based on IQR\n",
    "df_no_outliers_iqr = df[(df['Initial_days'] >= lower_bound) & (df['Initial_days'] <= upper_bound)]\n",
    "\n",
    "# Define a function to calculate the modified Z-score\n",
    "def modified_z_score(series):\n",
    "    median = np.median(series)\n",
    "    mad = np.median(np.abs(series - median))\n",
    "    modified_z_scores = 0.6745 * (series - median) / mad\n",
    "    return modified_z_scores\n",
    "\n",
    "# Calculate modified Z-score for Initial_days\n",
    "df['Modified_Z_Score'] = modified_z_score(df['Initial_days'])\n",
    "\n",
    "# Define a threshold for identifying outliers using modified Z-score\n",
    "threshold = 3.5\n",
    "\n",
    "# Filter out outliers based on modified Z-score\n",
    "df_no_outliers_mod_z = df[np.abs(df['Modified_Z_Score']) <= threshold]\n",
    "\n",
    "# Now you have two DataFrames:\n",
    "# df_no_outliers_iqr: without outliers based on IQR\n",
    "# df_no_outliers_mod_z: without outliers based on modified Z-score\n"
   ]
  },
  {
   "cell_type": "code",
   "execution_count": 77,
   "metadata": {},
   "outputs": [
    {
     "data": {
      "text/plain": [
       "0"
      ]
     },
     "execution_count": 77,
     "metadata": {},
     "output_type": "execute_result"
    }
   ],
   "source": [
    "# Number of outliers identified by the IQR method\n",
    "num_outliers_iqr = df[(df['Initial_days'] < lower_bound) | (df['Initial_days'] > upper_bound)].shape[0]\n",
    "\n",
    "num_outliers_iqr"
   ]
  },
  {
   "cell_type": "code",
   "execution_count": 78,
   "metadata": {},
   "outputs": [
    {
     "data": {
      "text/plain": [
       "0"
      ]
     },
     "execution_count": 78,
     "metadata": {},
     "output_type": "execute_result"
    }
   ],
   "source": [
    "# Number of outliers identified by the Modified Z-score method\n",
    "num_outliers_mod_z = df[np.abs(df['Modified_Z_Score']) > threshold].shape[0]\n",
    "num_outliers_mod_z"
   ]
  },
  {
   "cell_type": "code",
   "execution_count": 69,
   "metadata": {},
   "outputs": [
    {
     "data": {
      "text/plain": [
       "6714"
      ]
     },
     "execution_count": 69,
     "metadata": {},
     "output_type": "execute_result"
    }
   ],
   "source": [
    "# manage memory by using gc.collect() to clear memory\n",
    "import gc\n",
    "gc.collect()\n"
   ]
  },
  {
   "cell_type": "markdown",
   "metadata": {},
   "source": [
    "# Limitations\n",
    "\n",
    "Beware of the following with your regression analysis:\n",
    "\n",
    "Overfitting can occur due to limited data points.\n",
    "\n",
    "Multicollinearity occurs when high association (correlation) with other IVs.\n",
    "\n",
    "P-values can be unreliable and coefficients swing wildly\n",
    "\n",
    "Check for pairwise correlations and high VIF (> 10)\n",
    "\n",
    "Tune your model with as many variables as practical. Forward, backward, stepwise\n",
    "    regression based on AIC, BIC, etc.\n",
    "ppoint 5 https://westerngovernorsuniversity-my.sharepoint.com/:p:/g/personal/william_sewell_wgu_edu/ERPQ0YpiQktOl-7YyAVnfLMBR5qeBh2cSv61VaJqe_aHKg?e=FjPhPz\n",
    "\n",
    "# Errata n notes\n",
    "\n",
    "I'm wrapping up task 1, and my research question is 'what factors influence the total charge a patient receives'. Total charge has a bimodal distribution that I did a log transform on which helped tremendously. Regarding my final reduced model, the RSE is pretty good, both residual normality and homoscedasticity are mostly there. Both have slight variance from expectations around the tails. For fun I decided to re run my code but filtered my data for patients staying less than a month and it improved my RSE, normality and homoscedasticity. Should I change my research question or keep it broad and just explain the limitations of outlier patients?\n",
    "\n",
    "\n"
   ]
  }
 ],
 "metadata": {
  "kernelspec": {
   "display_name": ".venv",
   "language": "python",
   "name": "python3"
  },
  "language_info": {
   "codemirror_mode": {
    "name": "ipython",
    "version": 3
   },
   "file_extension": ".py",
   "mimetype": "text/x-python",
   "name": "python",
   "nbconvert_exporter": "python",
   "pygments_lexer": "ipython3",
   "version": "3.12.1"
  }
 },
 "nbformat": 4,
 "nbformat_minor": 2
}
