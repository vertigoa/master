import unittest
import matplotlib.pyplot as plt
import seaborn as sns
import statsmodels.api as sm

class TestCode(unittest.TestCase):
    def test_residuals_distribution(self):
        # Generate some random residuals
        residuals = [0.1, -0.2, 0.3, -0.4, 0.5, -0.6, 0.7, -0.8, 0.9, -1.0]
        
        # Plot the residuals
        fig, axes = plt.subplots(1, 3, figsize=(10, 3))
        
        # Residuals Distribution
        sns.histplot(residuals, bins=30, ax=axes[0])
        axes[0].set_xlabel('Residuals')
        axes[0].set_ylabel('Frequency')
        axes[0].set_title('Residuals Distribution')
        
        # Add mean and median lines to the histogram
        mean_residuals = sum(residuals) / len(residuals)
        median_residuals = sorted(residuals)[len(residuals) // 2]
        axes[0].axvline(x=mean_residuals, color='green', linestyle='--', label='Mean')
        axes[0].axvline(x=median_residuals, color='blue', linestyle='--', label='Median')
        axes[0].legend()
        
        plt.tight_layout()
        plt.show()
        
    def test_qq_plot(self):
        # Generate some random residuals
        residuals = [0.1, -0.2, 0.3, -0.4, 0.5, -0.6, 0.7, -0.8, 0.9, -1.0]
        
        # Plot the QQ plot of residuals
        fig, axes = plt.subplots(1, 3, figsize=(10, 3))
        sm.qqplot(residuals, line='s', ax=axes[1])
        axes[1].set_xlabel("Theoretical Quantiles")
        axes[1].set_ylabel("Sample Quantiles")
        axes[1].set_title("QQ plot of residuals")
        
        plt.axhline(y=0, color='red', linestyle='--') 
        plt.tight_layout()
        plt.show()
        
    def test_residuals_vs_predicted_values(self):
        # Generate some random residuals and predictions
        residuals = [0.1, -0.2, 0.3, -0.4, 0.5, -0.6, 0.7, -0.8, 0.9, -1.0]
        predictions = [1, 2, 3, 4, 5, 6, 7, 8, 9, 10]
        
        # Plot the residuals vs. predicted values
        fig, axes = plt.subplots(1, 3, figsize=(10, 3))
        sns.scatterplot(x=predictions, y=residuals, ax=axes[2])
        axes[2].set_xlabel("Predicted values")
        axes[2].set_ylabel("Residuals")
        axes[2].set_title("Residuals vs. predicted values")
        
        # Add mean and median lines to the residuals plot
        mean_residuals = sum(residuals) / len(residuals)
        median_residuals = sorted(residuals)[len(residuals) // 2]
        axes[2].axhline(y=mean_residuals, color='green', linestyle='--', label='Mean')
        axes[2].axhline(y=median_residuals, color='blue', linestyle='--', label='Median')
        axes[2].legend()
        
        plt.tight_layout()
        plt.show()

if __name__ == '__main__':
    unittest.main()