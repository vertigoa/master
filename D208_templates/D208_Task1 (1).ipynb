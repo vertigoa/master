{
 "cells": [
  {
   "cell_type": "code",
   "execution_count": null,
   "id": "0fb8432a-2cdd-4311-a5aa-910fa4d39f46",
   "metadata": {
    "tags": []
   },
   "outputs": [],
   "source": [
    "import numpy as np\n",
    "import pandas as pd\n",
    "import seaborn as sns\n",
    "import matplotlib.pyplot as plt\n",
    "from sklearn import preprocessing\n",
    "from sklearn.linear_model import LinearRegression\n",
    "from sklearn.model_selection import train_test_split\n",
    "from sklearn import metrics\n",
    "from sklearn.metrics import classification_report\n",
    "from itertools import product\n",
    "%matplotlib inline\n",
    "import pylab\n",
    "from pylab import rcParams\n",
    "import statsmodels.api as sm\n",
    "import statistics\n",
    "from scipy import stats\n",
    "import sklearn\n",
    "import warnings\n",
    "warnings.filterwarnings('ignore')\n",
    "import matplotlib as mpl\n",
    "COLOR = 'white'\n",
    "mpl.rcParams['text.color'] = COLOR\n",
    "mpl.rcParams['axes.labelcolor'] = COLOR\n",
    "mpl.rcParams['xtick.color'] = COLOR\n",
    "mpl.rcParams['ytick.color'] = COLOR\n",
    "\n",
    "# Import the dataset to datafram\n",
    "medical_df = pd.read_csv('C:/Users/MichaelRupert/Downloads/e9d8sm5uf8df75k650df/medical_cleaned_data.csv');\n",
    "\n",
    "# Rename columns/variables of survey to easily recognizable features (ex: \"Item1\" to \"TimelyResponse\").\n",
    "medical_df.rename(columns = {'Income' : 'Household_Income', \n",
    "                                 'TotalCharge': 'Daily_Average_Charges', \n",
    "                                 'Additional_Charges' : 'Average_Daily_Additional_Services',\n",
    "                                 'Item1':'Timely_Admission','Item2':'Timely_Treatment',\n",
    "                                 'Item3':'Timely_Visits',\n",
    "                                 'Item4':'Reliability','Item5':'Options','Item6':'Hours_Treatment',\n",
    "                                 'Item7':'Courteous_Staff','Item8':'Active_Listening'},inplace = True)\n",
    "# Get a description of data frame, structure (columns & rows) & data types.\n",
    "print(\"____________________________________________________________\")\n",
    "print(\"Below is a description and shape of the Data:\")\n",
    "print(medical_df.shape)\n",
    "print(medical_df.describe())\n",
    "print(\"____________________________________________________________\")\n",
    "#Check for duplicaes\n",
    "Is_dups_bool = medical_df.duplicated()\n",
    "print(\"Are there duplicates? \")\n",
    "print(Is_dups_bool.value_counts())\n",
    "print(\"____________________________________________________________\")\n",
    "\n",
    "medical_df.columns\n",
    "\n",
    "medical_df['intercept'] = 1\n",
    "model_VitD = sm.OLS(medical_df['VitD_levels'], medical_df[['State', 'Zip', 'Lat', 'Lng', 'Population', 'Area',\n",
    "       'Timezone', 'Children', 'Age', 'Education', 'Employment',\n",
    "       'Household_Income', 'Marital', 'Gender', 'ReAdmis', 'VitD_levels',\n",
    "       'Doc_visits', 'Full_meals_eaten', 'VitD_supp', 'Soft_drink',\n",
    "       'Initial_admin', 'HighBlood', 'Stroke', 'Complication_risk',\n",
    "       'Overweight', 'Arthritis', 'Diabetes', 'Hyperlipidemia', 'BackPain',\n",
    "       'Anxiety', 'Allergic_rhinitis', 'Reflux_esophagitis', 'Asthma',\n",
    "       'Services', 'Initial_days', 'Daily_Average_Charges',\n",
    "       'Additional_charges', 'Timely_Admission', 'Timely_Treatment',\n",
    "       'Timely_Visits', 'Reliability', 'Options', 'Hours_Treatment',\n",
    "       'Courteous_Staff', 'Active_Listening']]).fit()\n",
    "#print(lm_ReAdmis.params)\n",
    "print(model_VitD.summary())\n",
    "#Remove Unwanted columns \n",
    "new_Med_DF  =  medical_df.drop(labels=['ReAdmis', 'Soft_drink',\n",
    "       'Initial_admin',  'Stroke', 'Complication_risk',\n",
    "       'Arthritis', 'Diabetes', 'Hyperlipidemia', 'BackPain',\n",
    "       'Anxiety', 'Allergic_rhinitis', 'Reflux_esophagitis', 'Asthma',\n",
    "       'Services', 'Initial_days', 'Timely_Treatment',\n",
    "       'Timely_Visits', 'Reliability',  'Active_Listening'],axis=1)\n",
    "print(new_Med_DF)\n",
    "print(\"____________________________________________________________\")\n",
    "\n",
    "print(new_Med_DF.shape)\n",
    "print(new_Med_DF.describe())\n",
    "print(\"____________________________________________________________\")\n",
    "\n",
    "\n",
    "\n",
    "# print(new_Med_DF.head(1))\n",
    "nan_values = new_Med_DF.isnull()\n",
    "nan_columns = nan_values.any()\n",
    "columns_with_nan = new_Med_DF.columns[nan_columns].tolist()\n",
    "print(\"Is the columns with null values.\")\n",
    "print(columns_with_nan)\n",
    "print(\"____________________________________________________________\")\n",
    "\n",
    "print(new_Med_DF.columns)\n"
   ]
  },
  {
   "cell_type": "code",
   "execution_count": null,
   "id": "4bd85f67-4ef1-410c-993d-461e23759b44",
   "metadata": {
    "tags": []
   },
   "outputs": [],
   "source": [
    "#Let's Create Two arrays one for Continuous varaibles and one for non-Continuous or Categorical\n",
    "continuous_Ar = {'Lat', 'Lng', 'Population', 'Children', 'Age',\n",
    "       'Household_Income',  'VitD_levels', 'VitD_supp', 'Daily_Average_Charges', 'Additional_charges'}\n",
    "\n",
    "categorical_Ar = {'State', 'Zip', 'Area',\n",
    "       'Timezone', 'Education', 'Employment','Marital', 'Gender',  'Doc_visits',\n",
    "       'Full_meals_eaten', 'HighBlood', 'Overweight','Timely_Admission',\n",
    "       'Options', 'Hours_Treatment', 'Courteous_Staff'}\n",
    "\n",
    "full_ar = {'State', 'Zip', 'Lat', 'Lng', 'Population', 'Area',\n",
    "       'Timezone', 'Children', 'Age', 'Education', 'Employment',\n",
    "       'Household_Income', 'Marital', 'Gender', 'VitD_levels', 'Doc_visits',\n",
    "       'Full_meals_eaten', 'VitD_supp', 'HighBlood', 'Overweight',\n",
    "       'Daily_Average_Charges', 'Additional_charges', 'Timely_Admission',\n",
    "       'Options', 'Hours_Treatment', 'Courteous_Staff'}\n",
    "#Univariate Distributions\n",
    "new_Med_DF[['Lat', 'Lng', 'Population', 'Children', 'Age',\n",
    "       'Household_Income',  'VitD_levels', 'VitD_supp', 'Daily_Average_Charges', 'Additional_charges']].hist()\n",
    "\n",
    "plt.savefig('medical_pyplot.jpg')\n"
   ]
  },
  {
   "cell_type": "code",
   "execution_count": null,
   "id": "42825c97-6704-4eec-a108-368b22bd2019",
   "metadata": {
    "tags": []
   },
   "outputs": [],
   "source": [
    "#preform boxplots on categorical vairbales\n",
    "\n",
    "for x in categorical_Ar:\n",
    "    \n",
    "    sns.boxplot(x, data = new_Med_DF)\n",
    "    plt.show()"
   ]
  },
  {
   "cell_type": "code",
   "execution_count": null,
   "id": "94cb9c47-98e5-4236-81e6-66b9d2c117bb",
   "metadata": {
    "tags": []
   },
   "outputs": [],
   "source": [
    "for s in categorical_Ar:\n",
    "    sns.catplot(x=s, y=\"VitD_levels\", data=new_Med_DF)\n",
    "    plt.show()"
   ]
  },
  {
   "cell_type": "code",
   "execution_count": null,
   "id": "fa2974e7-b7af-49e5-ac3d-94531aa223d4",
   "metadata": {
    "tags": []
   },
   "outputs": [],
   "source": [
    "# Run scatterplots to show direct or inverse relationships between target & independent variablesfor x in VariableList: \n",
    "\n",
    "for v in (continuous_Ar):\n",
    "    sns.scatterplot(x=new_Med_DF[v], y=new_Med_DF['VitD_levels'],color='red')\n",
    "    plt.show();"
   ]
  },
  {
   "cell_type": "code",
   "execution_count": null,
   "id": "4924eb5b-d81d-43f1-b263-e798ab00a784",
   "metadata": {
    "tags": []
   },
   "outputs": [],
   "source": [
    "\n",
    "new_Med_DF['intercept'] = 1\n",
    "model_VitD_clean = sm.OLS(new_Med_DF['VitD_levels'], new_Med_DF[['State', 'Zip', 'Lat', \n",
    "       'Lng', 'Population', 'Area',\n",
    "       'Timezone', 'Children', 'Age', 'Education', 'Employment',\n",
    "       'Household_Income', 'Marital', 'Gender', 'Doc_visits',\n",
    "       'Full_meals_eaten', 'VitD_supp', 'HighBlood', 'Overweight',\n",
    "       'Daily_Average_Charges', 'Additional_charges', 'Timely_Admission',\n",
    "       'Options', 'Hours_Treatment', 'Courteous_Staff']]).fit()\n",
    "#print(lm_ReAdmis.params)\n",
    "print(model_VitD_clean.summary())"
   ]
  },
  {
   "cell_type": "code",
   "execution_count": null,
   "id": "87b80c19-7656-4259-8b18-acb278c6d79f",
   "metadata": {},
   "outputs": [],
   "source": [
    "v2_Med_data_cleaned = new_Med_DF.drop(labels=['State','Population','Timezone','Children',\n",
    "                                              'Age','Employment','Marital', 'VitD_supp','HighBlood',\n",
    "                                              'Courteous_Staff'],axis=1)\n",
    "\n",
    "# print(v2_Med_data_cleaned.columns)\n",
    "# print(v2_Med_data_cleaned.shape)\n",
    "\n",
    "v2_Med_data_cleaned.to_csv('D208_prepared_Dataset.csv', index=False)                                     \n",
    "model_V2_Med_Data_cleaned = sm.OLS(new_Med_DF['VitD_levels'], new_Med_DF[['Zip', 'Lat', \n",
    "       'Lng', 'Area', 'Education',\n",
    "       'Household_Income', 'Gender',  'Doc_visits',\n",
    "       'Full_meals_eaten', 'Overweight', 'Daily_Average_Charges',\n",
    "       'Additional_charges', 'Timely_Admission', 'Options', 'Hours_Treatment']]).fit()\n",
    "print(model_V2_Med_Data_cleaned.summary())"
   ]
  },
  {
   "cell_type": "code",
   "execution_count": null,
   "id": "bd1c7e3d-db9b-4e70-8284-b833e90a18b4",
   "metadata": {},
   "outputs": [],
   "source": [
    "v3_med_data_cleaned = new_Med_DF.drop(columns=[ 'Zip', 'Education', 'Timely_Admission', \n",
    "                                               'intercept', 'Area','Doc_visits', 'Gender',\n",
    "                                               'Additional_charges', 'Options', 'Hours_Treatment',\n",
    "                                               'State','Population','Timezone','Children','Age',\n",
    "                                               'Employment','Marital', 'VitD_supp','HighBlood',\n",
    "                                               'Courteous_Staff'],axis=1)\n",
    "v3_med_data_cleaned.columns"
   ]
  },
  {
   "cell_type": "code",
   "execution_count": null,
   "id": "4246a565-3b07-43bb-be30-967fb51e1dc7",
   "metadata": {},
   "outputs": [],
   "source": [
    "model_v3_Med_Data = sm.OLS(v3_med_data_cleaned[\"VitD_levels\"],v3_med_data_cleaned[[ 'Lat', 'Lng',  'Household_Income',\n",
    "       'Full_meals_eaten', 'Overweight',\n",
    "       'Daily_Average_Charges']]).fit()\n",
    "print(model_v3_Med_Data.summary())"
   ]
  },
  {
   "cell_type": "code",
   "execution_count": null,
   "id": "1be8774a-ec98-421e-87bd-5d200e660633",
   "metadata": {},
   "outputs": [],
   "source": [
    "print(model_v3_Med_Data.params)"
   ]
  },
  {
   "cell_type": "code",
   "execution_count": null,
   "id": "04466482-8dc2-4d29-a02a-e3dccc3d354c",
   "metadata": {},
   "outputs": [],
   "source": [
    "mse_mdl_v2 = model_V2_Med_Data_cleaned.mse_resid\n",
    "mse_mdl_v3 = model_v3_Med_Data.mse_resid\n",
    "print(np.sqrt(mse_mdl_v2))\n",
    "print(np.sqrt(mse_mdl_v3))\n"
   ]
  },
  {
   "cell_type": "code",
   "execution_count": null,
   "id": "8f93f61d-ee97-4a14-b249-d050e9d4513f",
   "metadata": {},
   "outputs": [],
   "source": [
    "# start exploring the models using imput variables and categorical variables\n",
    "Lat =  np.arange(0,80, 10)\n",
    "Lng =  np.arange(-180,-30, 10)\n",
    "HouseHold_incm = np.arange(0,300000, 10000)\n",
    "Meals = v3_med_data_cleaned[\"Full_meals_eaten\"].unique()\n",
    "overweight = v3_med_data_cleaned[\"Overweight\"].unique()\n",
    "Daily_Average_Charges = np.arange(1000,50000, 2000)\n",
    "\n",
    "p = product(Lat,Lng,HouseHold_incm,Meals,overweight,Daily_Average_Charges)\n",
    "\n",
    "explanatory_data = pd.DataFrame(p, columns = [ 'Lat', 'Lng',  'Household_Income',\n",
    "       'Full_meals_eaten', 'Overweight',\n",
    "       'Daily_Average_Charges'])\n",
    "prediction_data_Daily_Charge = explanatory_data.assign(VitD_levels = model_v3_Med_Data.predict(explanatory_data) )\n",
    "# #sns.scatterplot(x=\"Daily_Average_Charges\", y=\"State\",)\n",
    "print(prediction_data_Daily_Charge)"
   ]
  },
  {
   "cell_type": "code",
   "execution_count": null,
   "id": "4c5156d0-c35c-42dd-8f5e-1fe0cbc8be4b",
   "metadata": {},
   "outputs": [],
   "source": [
    "# start exploring the models using imput variables and categorical variables\n",
    "\n",
    "Lat =  np.arange(0,80, 10)\n",
    "Lng =  np.arange(-180,-30, 10)\n",
    "HouseHold_incm = np.arange(0,300000, 10000)\n",
    "VitD = np.arange(5,80, 5)\n",
    "Meals = v3_med_data_cleaned[\"Full_meals_eaten\"].unique()\n",
    "overweight = v3_med_data_cleaned[\"Overweight\"].unique()\n",
    "Daily_Average_Charges = np.arange(1000,50000, 2000)\n",
    "\n",
    "p = product(Lat, Lng, HouseHold_incm , Meals, overweight, Daily_Average_Charges)\n",
    "\n",
    "explanatory_data = pd.DataFrame(p, columns = ['Lat', 'Lng', 'Household_Income', 'Full_meals_eaten', 'Overweight', 'Daily_Average_Charges'])\n"
   ]
  },
  {
   "cell_type": "code",
   "execution_count": null,
   "id": "0415106b-baca-4d67-b9e1-d0ccc2b615ae",
   "metadata": {},
   "outputs": [],
   "source": [
    "prediction_data_Daily_Charge= explanatory_data.assign(VitD_Levels = model_v4_Med_Data.predict(explanatory_data) )\n",
    "\n",
    "print(prediction_data_Daily_Charge)"
   ]
  },
  {
   "cell_type": "code",
   "execution_count": null,
   "id": "9a2e3948-70e2-4739-9d6b-5a6e561256a4",
   "metadata": {},
   "outputs": [],
   "source": []
  }
 ],
 "metadata": {
  "kernelspec": {
   "display_name": "Python 3",
   "language": "python",
   "name": "python3"
  },
  "language_info": {
   "codemirror_mode": {
    "name": "ipython",
    "version": 3
   },
   "file_extension": ".py",
   "mimetype": "text/x-python",
   "name": "python",
   "nbconvert_exporter": "python",
   "pygments_lexer": "ipython3",
   "version": "3.8.8"
  }
 },
 "nbformat": 4,
 "nbformat_minor": 5
}
