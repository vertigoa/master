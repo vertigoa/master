{
 "cells": [
  {
   "cell_type": "markdown",
   "metadata": {
    "id": "Sw2urYIOooKn"
   },
   "source": [
    "\n",
    "# Performace Assessment: D207 Exploratory Data Analysis\n",
    "\n",
    "Shabnam Ahmadi\n",
    "<br>Department of Information Technology, Western Governors University\n",
    "<br>D207: Exploratory Data Analysis\n",
    "<br>Professor David Gagner\n",
    "<br>July 6, 2022"
   ]
  },
  {
   "cell_type": "markdown",
   "metadata": {
    "id": "fxFG8088ooKs"
   },
   "source": [
    "## Task A:  Describe a real-world organizational situation or issue in the Data Dictionary you chose, by doing the following:\n",
    "\n",
    "### **1.  Provide one question that is relevant to your chosen data set.**\n",
    "\n",
    "Preventable rehospitalization is a persistent financial challenge for medical institutions across the United States. This occurrence is frequent enough to where there is an external organization, Centers for Medicare and Medicaid Services (CMS), that penalizes hospitals for excessive readmissions. The Kaiser Family Foundations states that some of these readmission are preventable if more measures were in conduct by both the healthcare professionals and patients during and after they leave the hospital (Rau, 2021).\n",
    "\n",
    "The percentage of hospitals penalized for readmission has increased each year since the CMS began imposing penalties. According to the CMS reports, there were approximately 78% of hospitals that were fined with readmission penalties in the year 2015. About 75% of hospitals report being confident in their ability to remedy and reduce these fines and only 55% of hospitals project receiving these penalties. However, given the historical trend, the percentage of total hospitals fined is projected to be higher than 55%. Although hospitals are becoming more proactive and asserting more reduction strategies, fewer than 20% utilize technologies that is specific to reducing readmission.\n",
    "\n",
    "Given the context above, we can begin questioning if there are predictive measures that can be taken place when given patient information. For this project, my research question will be:\n",
    "\n",
    "**Who are the patients who are at the highest risk of readmission?**\n",
    "\n",
    "### **2.  Explain how stakeholders in the organization could benefit from an analysis of the data.**\n",
    "\n",
    "Stakeholders will benefit from this analysis by understanding which patients are at the highest risk of readmission. Additionally, stakeholders will be informed on what charaterists are relevant in predicting patient readmission. This information will be beneficial to the stakeholders because it will provide insight in making decisions in the interests of the business. For example, if the stakeholders are planning to strat a project on reducing readmission in patients, information for this analysis could help identify focus areas.\n",
    "\n",
    "### **3.  Identify all of the data in your data set that are relevant to answering your question in part A1.**\n",
    "\n",
    "In our data cleaning phase, we conducted a Principal Component Analysis (PCA) and identified 4 principal components that explain approximately 39% of the variance in the data. The variables are as follows: \n",
    "> * TimelyAdmission\n",
    "> * TimelyTreatment\n",
    "> * TimelyVisits\n",
    "> * TreatmentTime\n",
    "\n",
    "The variables are ordered respective to the most significant variable to the least. In this analysis, we will assess the TimelyAdmission variable with the ReAdmis variable. The principal components above are survey responses, the values are integers between 1 through 8, 1 represents the least satisfaction and 8 representing the most satisfaction. ReAdmis is a binary yes or no variable that indicates whether the patient has been readmitted into the hospital. Since both variables are categorical, we will be conducting a **chi-squared test**."
   ]
  },
  {
   "cell_type": "markdown",
   "metadata": {
    "id": "coP0EouYooKu"
   },
   "source": [
    "## Task B:  Describe the data analysis by doing the following:\n",
    "\n",
    "### 1.  Using one of the following techniques, write code (in either Python or R) to run the analysis of the data set:\n",
    "\n",
    "> - chi-square \n",
    "> - t-test\n",
    "> - ANOVA\n"
   ]
  },
  {
   "cell_type": "code",
   "execution_count": 1,
   "metadata": {
    "colab": {
     "base_uri": "https://localhost:8080/"
    },
    "id": "__UwgitwooKv",
    "outputId": "f2d234c3-b274-4916-8a35-e1d8639348d7"
   },
   "outputs": [],
   "source": [
    "# Standard data science imports\n",
    "import numpy as np\n",
    "import pandas as pd\n",
    "from pandas import DataFrame\n",
    "\n",
    "# Visualization libraries\n",
    "import seaborn as sns\n",
    "import matplotlib.pyplot as plt\n",
    "%matplotlib inline\n",
    "\n",
    "# Statistics packages\n",
    "import pylab\n",
    "import statsmodels.api as sm\n",
    "import statistics\n",
    "from scipy import stats\n",
    "\n",
    "# Import chisquare from SciPy.stats\n",
    "from scipy.stats import chisquare\n",
    "from scipy.stats import chi2_contingency"
   ]
  },
  {
   "cell_type": "code",
   "execution_count": 2,
   "metadata": {
    "id": "6CZ4jj4fooKw"
   },
   "outputs": [],
   "source": [
    "df = pd.read_csv(r\"C:\\Users\\shabn\\Documents\\WGU - MSDA\\D207\\Medical Data - 207\\medical_clean.csv\")"
   ]
  },
  {
   "cell_type": "code",
   "execution_count": 3,
   "metadata": {
    "colab": {
     "base_uri": "https://localhost:8080/"
    },
    "id": "kmPjKkNyooKx",
    "outputId": "b95b2063-8b42-4b87-d66e-c0b603074651"
   },
   "outputs": [
    {
     "data": {
      "text/plain": [
       "Index(['CaseOrder', 'Customer_id', 'Interaction', 'UID', 'City', 'State',\n",
       "       'County', 'Zip', 'Lat', 'Lng', 'Population', 'Area', 'TimeZone', 'Job',\n",
       "       'Children', 'Age', 'Income', 'Marital', 'Gender', 'ReAdmis',\n",
       "       'VitD_levels', 'Doc_visits', 'Full_meals_eaten', 'vitD_supp',\n",
       "       'Soft_drink', 'Initial_admin', 'HighBlood', 'Stroke',\n",
       "       'Complication_risk', 'Overweight', 'Arthritis', 'Diabetes',\n",
       "       'Hyperlipidemia', 'BackPain', 'Anxiety', 'Allergic_rhinitis',\n",
       "       'Reflux_esophagitis', 'Asthma', 'Services', 'Initial_days',\n",
       "       'TotalCharge', 'Additional_charges', 'TimelyAdmission',\n",
       "       'TimelyTreatment', 'TimelyVisits', 'Reliability', 'Options',\n",
       "       'TreatmentTime', 'Courteous', 'ActiveListenting'],\n",
       "      dtype='object')"
      ]
     },
     "execution_count": 3,
     "metadata": {},
     "output_type": "execute_result"
    }
   ],
   "source": [
    "# rename the survey columns\n",
    "\n",
    "df.rename(columns = {\n",
    "    'Item1':'TimelyAdmission',\n",
    "    'Item2':'TimelyTreatment',\n",
    "    'Item3':'TimelyVisits',\n",
    "    'Item4':'Reliability',\n",
    "    'Item5':'Options',\n",
    "    'Item6':'TreatmentTime',\n",
    "    'Item7':'Courteous',\n",
    "    'Item8':'ActiveListenting'\n",
    "}, inplace=True)\n",
    "\n",
    "df.columns"
   ]
  },
  {
   "cell_type": "code",
   "execution_count": 4,
   "metadata": {
    "colab": {
     "base_uri": "https://localhost:8080/",
     "height": 143
    },
    "id": "LLXNVO9qooKy",
    "outputId": "0011ef8a-4a16-4c0a-be81-2c47430daee4"
   },
   "outputs": [
    {
     "data": {
      "text/html": [
       "<div>\n",
       "<style scoped>\n",
       "    .dataframe tbody tr th:only-of-type {\n",
       "        vertical-align: middle;\n",
       "    }\n",
       "\n",
       "    .dataframe tbody tr th {\n",
       "        vertical-align: top;\n",
       "    }\n",
       "\n",
       "    .dataframe thead th {\n",
       "        text-align: right;\n",
       "    }\n",
       "</style>\n",
       "<table border=\"1\" class=\"dataframe\">\n",
       "  <thead>\n",
       "    <tr style=\"text-align: right;\">\n",
       "      <th>TimelyAdmission</th>\n",
       "      <th>1</th>\n",
       "      <th>2</th>\n",
       "      <th>3</th>\n",
       "      <th>4</th>\n",
       "      <th>5</th>\n",
       "      <th>6</th>\n",
       "      <th>7</th>\n",
       "      <th>8</th>\n",
       "    </tr>\n",
       "    <tr>\n",
       "      <th>ReAdmis</th>\n",
       "      <th></th>\n",
       "      <th></th>\n",
       "      <th></th>\n",
       "      <th></th>\n",
       "      <th></th>\n",
       "      <th></th>\n",
       "      <th></th>\n",
       "      <th></th>\n",
       "    </tr>\n",
       "  </thead>\n",
       "  <tbody>\n",
       "    <tr>\n",
       "      <th>No</th>\n",
       "      <td>134</td>\n",
       "      <td>823</td>\n",
       "      <td>2137</td>\n",
       "      <td>2184</td>\n",
       "      <td>891</td>\n",
       "      <td>155</td>\n",
       "      <td>7</td>\n",
       "      <td>0</td>\n",
       "    </tr>\n",
       "    <tr>\n",
       "      <th>Yes</th>\n",
       "      <td>79</td>\n",
       "      <td>492</td>\n",
       "      <td>1267</td>\n",
       "      <td>1271</td>\n",
       "      <td>486</td>\n",
       "      <td>70</td>\n",
       "      <td>3</td>\n",
       "      <td>1</td>\n",
       "    </tr>\n",
       "  </tbody>\n",
       "</table>\n",
       "</div>"
      ],
      "text/plain": [
       "TimelyAdmission    1    2     3     4    5    6  7  8\n",
       "ReAdmis                                              \n",
       "No               134  823  2137  2184  891  155  7  0\n",
       "Yes               79  492  1267  1271  486   70  3  1"
      ]
     },
     "execution_count": 4,
     "metadata": {},
     "output_type": "execute_result"
    }
   ],
   "source": [
    "# to complete the chi-squared test, we will need to have a crosstab table of the two variables\n",
    "# crosstab on ReAdmis and TimelyAdmission, note that ReAmis has Yes/No values and TimelyAdmission is a integer from 1 to 8\n",
    "\n",
    "contingency1 = pd.crosstab(df['ReAdmis'], df['TimelyAdmission'])\n",
    "\n",
    "contingency1"
   ]
  },
  {
   "cell_type": "code",
   "execution_count": 5,
   "metadata": {
    "colab": {
     "base_uri": "https://localhost:8080/",
     "height": 143
    },
    "id": "FnkEv8sLooKy",
    "outputId": "dc7ab30c-0426-4694-dd47-772e5a9dcb8e"
   },
   "outputs": [
    {
     "data": {
      "text/html": [
       "<div>\n",
       "<style scoped>\n",
       "    .dataframe tbody tr th:only-of-type {\n",
       "        vertical-align: middle;\n",
       "    }\n",
       "\n",
       "    .dataframe tbody tr th {\n",
       "        vertical-align: top;\n",
       "    }\n",
       "\n",
       "    .dataframe thead th {\n",
       "        text-align: right;\n",
       "    }\n",
       "</style>\n",
       "<table border=\"1\" class=\"dataframe\">\n",
       "  <thead>\n",
       "    <tr style=\"text-align: right;\">\n",
       "      <th>TimelyAdmission</th>\n",
       "      <th>1</th>\n",
       "      <th>2</th>\n",
       "      <th>3</th>\n",
       "      <th>4</th>\n",
       "      <th>5</th>\n",
       "      <th>6</th>\n",
       "      <th>7</th>\n",
       "      <th>8</th>\n",
       "    </tr>\n",
       "    <tr>\n",
       "      <th>ReAdmis</th>\n",
       "      <th></th>\n",
       "      <th></th>\n",
       "      <th></th>\n",
       "      <th></th>\n",
       "      <th></th>\n",
       "      <th></th>\n",
       "      <th></th>\n",
       "      <th></th>\n",
       "    </tr>\n",
       "  </thead>\n",
       "  <tbody>\n",
       "    <tr>\n",
       "      <th>No</th>\n",
       "      <td>0.021166</td>\n",
       "      <td>0.129995</td>\n",
       "      <td>0.337545</td>\n",
       "      <td>0.344969</td>\n",
       "      <td>0.140736</td>\n",
       "      <td>0.024483</td>\n",
       "      <td>0.001106</td>\n",
       "      <td>0.000000</td>\n",
       "    </tr>\n",
       "    <tr>\n",
       "      <th>Yes</th>\n",
       "      <td>0.021532</td>\n",
       "      <td>0.134096</td>\n",
       "      <td>0.345326</td>\n",
       "      <td>0.346416</td>\n",
       "      <td>0.132461</td>\n",
       "      <td>0.019079</td>\n",
       "      <td>0.000818</td>\n",
       "      <td>0.000273</td>\n",
       "    </tr>\n",
       "  </tbody>\n",
       "</table>\n",
       "</div>"
      ],
      "text/plain": [
       "TimelyAdmission         1         2         3         4         5         6  \\\n",
       "ReAdmis                                                                       \n",
       "No               0.021166  0.129995  0.337545  0.344969  0.140736  0.024483   \n",
       "Yes              0.021532  0.134096  0.345326  0.346416  0.132461  0.019079   \n",
       "\n",
       "TimelyAdmission         7         8  \n",
       "ReAdmis                              \n",
       "No               0.001106  0.000000  \n",
       "Yes              0.000818  0.000273  "
      ]
     },
     "execution_count": 5,
     "metadata": {},
     "output_type": "execute_result"
    }
   ],
   "source": [
    "# next, we create a normalized table with the two variables\n",
    "\n",
    "contingency_norm1 = pd.crosstab(df['ReAdmis'], df['TimelyAdmission'], normalize='index')\n",
    "\n",
    "contingency_norm1"
   ]
  },
  {
   "cell_type": "code",
   "execution_count": 6,
   "metadata": {
    "colab": {
     "base_uri": "https://localhost:8080/",
     "height": 514
    },
    "id": "n7VgVcHlooKz",
    "outputId": "e9f73be3-d987-4dc7-a1d2-f1f5bc716947"
   },
   "outputs": [
    {
     "data": {
      "text/plain": [
       "<matplotlib.axes._subplots.AxesSubplot at 0xba2ce80>"
      ]
     },
     "execution_count": 6,
     "metadata": {},
     "output_type": "execute_result"
    },
    {
     "data": {
      "image/png": "[encoded data removed]",
      "text/plain": [
       "<Figure size 864x576 with 2 Axes>"
      ]
     },
     "metadata": {
      "needs_background": "light"
     },
     "output_type": "display_data"
    }
   ],
   "source": [
    "# heatmap to see the distribution of the variables, normalized helps the visualization\n",
    "\n",
    "plt.figure(figsize=(12,8))\n",
    "sns.heatmap(contingency_norm1, annot=True, cmap='PuRd')"
   ]
  },
  {
   "cell_type": "code",
   "execution_count": 7,
   "metadata": {
    "colab": {
     "base_uri": "https://localhost:8080/",
     "height": 514
    },
    "id": "nXNj3PsBooK0",
    "outputId": "71a00bdf-8e86-4d5c-b923-a7c4150342d6"
   },
   "outputs": [
    {
     "data": {
      "text/plain": [
       "<matplotlib.axes._subplots.AxesSubplot at 0xdcacbc8>"
      ]
     },
     "execution_count": 7,
     "metadata": {},
     "output_type": "execute_result"
    },
    {
     "data": {
      "image/png": "[encoded data removed]",
      "text/plain": [
       "<Figure size 864x576 with 2 Axes>"
      ]
     },
     "metadata": {
      "needs_background": "light"
     },
     "output_type": "display_data"
    }
   ],
   "source": [
    "# heatmap of the original crosstab\n",
    "\n",
    "plt.figure(figsize=(12,8))\n",
    "sns.heatmap(contingency1, annot=True, cmap='PuRd')"
   ]
  },
  {
   "cell_type": "markdown",
   "metadata": {
    "id": "nm3Bsq5RooK3"
   },
   "source": [
    "### 2.  Provide the output and the results of any calculations from the analysis you performed."
   ]
  },
  {
   "cell_type": "code",
   "execution_count": 8,
   "metadata": {
    "colab": {
     "base_uri": "https://localhost:8080/"
    },
    "id": "YgabDmWxooK3",
    "outputId": "08c9f610-d7ca-4ade-a6ef-2cb69df746ae"
   },
   "outputs": [
    {
     "name": "stdout",
     "output_type": "stream",
     "text": [
      "p-value = 0.44711691481022053\n",
      "chi-squared value = 6.8269565562495975\n",
      "degrees of freedom = 7\n"
     ]
    }
   ],
   "source": [
    "c, p, dof, expected = chi2_contingency(contingency1)\n",
    "print('p-value = ' + str(p))\n",
    "print('chi-squared value = ' + str(c))\n",
    "print('degrees of freedom = ' + str(dof))"
   ]
  },
  {
   "cell_type": "markdown",
   "metadata": {
    "id": "_f2YGxIPaAhW"
   },
   "source": [
    "The **null hypothesis, H<sub>0,** is: there is no relationship between the two variables (TimelyAdmission and ReAdmis) <br>\n",
    "The **research hypothesis, H<sub>1,** is: there is a relationship between the two variables (TimelyAdmission and ReAdmis)\n",
    "\n",
    "We will set our alpha, or significance value, at **0.05**, as this is the standrad practice.\n",
    "\n",
    "Our calcualtions have found that the p-value of the two variables is approximately 0.45, which is higher than the alpha value of 0.05. Therefore, we accept the null hypothesis."
   ]
  },
  {
   "cell_type": "markdown",
   "metadata": {
    "id": "_LWEBv0NZxob"
   },
   "source": [
    "#### Chi-squared test on other Principal Components\n",
    "Out of curiousity, we will conduce the chi-squared test on the other principal components."
   ]
  },
  {
   "cell_type": "code",
   "execution_count": 9,
   "metadata": {
    "colab": {
     "base_uri": "https://localhost:8080/",
     "height": 514
    },
    "id": "NuLPi1zcXq22",
    "outputId": "946bb7f9-2e92-4407-ed5d-1158bbe30ed8"
   },
   "outputs": [
    {
     "data": {
      "text/plain": [
       "<matplotlib.axes._subplots.AxesSubplot at 0xdaa0eb0>"
      ]
     },
     "execution_count": 9,
     "metadata": {},
     "output_type": "execute_result"
    },
    {
     "data": {
      "image/png": "[encoded data removed]",
      "text/plain": [
       "<Figure size 864x576 with 2 Axes>"
      ]
     },
     "metadata": {
      "needs_background": "light"
     },
     "output_type": "display_data"
    }
   ],
   "source": [
    "# just out of curiousity, we will run the chi-squared test on the other principal components \n",
    "# TimelyTreatment\n",
    "\n",
    "contingency2 = pd.crosstab(df['ReAdmis'], df['TimelyTreatment'])\n",
    "contingency_norm2 = pd.crosstab(df['ReAdmis'], df['TimelyTreatment'], normalize='index')\n",
    "#\n",
    "plt.figure(figsize=(12,8))\n",
    "sns.heatmap(contingency_norm2, annot=True, cmap='PuRd')"
   ]
  },
  {
   "cell_type": "code",
   "execution_count": 10,
   "metadata": {
    "colab": {
     "base_uri": "https://localhost:8080/"
    },
    "id": "mE16onsaX-Ix",
    "outputId": "6c86f956-2c04-4e14-e2b4-1fe9ec9a23a4"
   },
   "outputs": [
    {
     "name": "stdout",
     "output_type": "stream",
     "text": [
      "Timely Treatment and Readmission:\n",
      "p-value = 0.16644430134991942\n",
      "chi-squared value = 9.12914424629802\n",
      "degrees of freedom = 6\n"
     ]
    }
   ],
   "source": [
    "c, p, dof, expected = chi2_contingency(contingency2)\n",
    "print('Timely Treatment and Readmission:')\n",
    "print('p-value = ' + str(p))\n",
    "print('chi-squared value = ' + str(c))\n",
    "print('degrees of freedom = ' + str(dof))"
   ]
  },
  {
   "cell_type": "code",
   "execution_count": 11,
   "metadata": {
    "colab": {
     "base_uri": "https://localhost:8080/",
     "height": 516
    },
    "id": "M_0uL57pZSMs",
    "outputId": "a7ea08e9-52fe-4c78-e0dd-b3e402783264"
   },
   "outputs": [
    {
     "data": {
      "text/plain": [
       "<matplotlib.axes._subplots.AxesSubplot at 0xde69688>"
      ]
     },
     "execution_count": 11,
     "metadata": {},
     "output_type": "execute_result"
    },
    {
     "data": {
      "image/png": "[encoded data removed]",
      "text/plain": [
       "<Figure size 864x576 with 2 Axes>"
      ]
     },
     "metadata": {
      "needs_background": "light"
     },
     "output_type": "display_data"
    }
   ],
   "source": [
    "contingency3 = pd.crosstab(df['ReAdmis'], df['TimelyVisits'])\n",
    "contingency_norm3 = pd.crosstab(df['ReAdmis'], df['TimelyVisits'], normalize='index')\n",
    "#ok\n",
    "plt.figure(figsize=(12,8))\n",
    "sns.heatmap(contingency_norm3, annot=True, cmap='PuRd')"
   ]
  },
  {
   "cell_type": "code",
   "execution_count": 12,
   "metadata": {
    "colab": {
     "base_uri": "https://localhost:8080/"
    },
    "id": "2hdOuc9mZiso",
    "outputId": "943b6791-8d28-450b-aacc-732f270e10b4"
   },
   "outputs": [
    {
     "name": "stdout",
     "output_type": "stream",
     "text": [
      "Timely Visits and Readmission:\n",
      "p-value = 0.19565434092824896\n",
      "chi-squared value = 9.876952935711348\n",
      "degrees of freedom = 7\n"
     ]
    }
   ],
   "source": [
    "c, p, dof, expected = chi2_contingency(contingency3)\n",
    "print('Timely Visits and Readmission:')\n",
    "print('p-value = ' + str(p))\n",
    "print('chi-squared value = ' + str(c))\n",
    "print('degrees of freedom = ' + str(dof))"
   ]
  },
  {
   "cell_type": "code",
   "execution_count": 13,
   "metadata": {
    "colab": {
     "base_uri": "https://localhost:8080/",
     "height": 514
    },
    "id": "Q3PkY3bjZS76",
    "outputId": "cc0f8fdb-1691-44aa-c7ae-82b6cdc0ea00"
   },
   "outputs": [
    {
     "data": {
      "text/plain": [
       "<matplotlib.axes._subplots.AxesSubplot at 0xdad50b8>"
      ]
     },
     "execution_count": 13,
     "metadata": {},
     "output_type": "execute_result"
    },
    {
     "data": {
      "image/png": "[encoded data removed]",
      "text/plain": [
       "<Figure size 864x576 with 2 Axes>"
      ]
     },
     "metadata": {
      "needs_background": "light"
     },
     "output_type": "display_data"
    }
   ],
   "source": [
    "contingency4 = pd.crosstab(df['ReAdmis'], df['TreatmentTime'])\n",
    "contingency_norm4 = pd.crosstab(df['ReAdmis'], df['TreatmentTime'], normalize='index')\n",
    "\n",
    "plt.figure(figsize=(12,8))\n",
    "sns.heatmap(contingency_norm4, annot=True, cmap='PuRd')"
   ]
  },
  {
   "cell_type": "code",
   "execution_count": 14,
   "metadata": {
    "colab": {
     "base_uri": "https://localhost:8080/"
    },
    "id": "Ce8A4P_LZn6i",
    "outputId": "fea8b10a-c3b8-4cb8-82c1-f5974c9d8c58"
   },
   "outputs": [
    {
     "name": "stdout",
     "output_type": "stream",
     "text": [
      "Treatment Time and Readmission:\n",
      "p-value = 0.41313299412204035\n",
      "chi-squared value = 6.090463952746655\n",
      "degrees of freedom = 6\n"
     ]
    }
   ],
   "source": [
    "c, p, dof, expected = chi2_contingency(contingency4)\n",
    "print('Treatment Time and Readmission:')\n",
    "print('p-value = ' + str(p))\n",
    "print('chi-squared value = ' + str(c))\n",
    "print('degrees of freedom = ' + str(dof))"
   ]
  },
  {
   "cell_type": "markdown",
   "metadata": {
    "id": "e_7NZ8ceasQh"
   },
   "source": [
    "Interestingly, all principal components have a p-value higher than the defined alpha value of 0.05."
   ]
  },
  {
   "cell_type": "markdown",
   "metadata": {
    "id": "q9B52ZnFooK3"
   },
   "source": [
    "### 3.  Justify why you chose this analysis technique.\n",
    "\n",
    "As mentioned above in Task A (3), we have used the chi-squared analysis since we are working with two categorical variables."
   ]
  },
  {
   "cell_type": "markdown",
   "metadata": {
    "id": "izehskrOooK4"
   },
   "source": [
    "## Task C:  Identify the distribution of two continuous variables and two categorical variables using univariate statistics from your cleaned and prepared data. \n",
    "\n",
    "We will identify the distribution of the following variables:\n",
    "\n",
    "Continuous data:\n",
    "> * Initial_days\n",
    "> * TotalCharge\n",
    "\n",
    "Categorical data:\n",
    "> * TimelyAdmission\n",
    "> * TimelyTreatment\n"
   ]
  },
  {
   "cell_type": "code",
   "execution_count": 15,
   "metadata": {
    "colab": {
     "base_uri": "https://localhost:8080/"
    },
    "id": "wKysQP7TooK4",
    "outputId": "9d9b8393-4efd-43a2-a558-359243412edd"
   },
   "outputs": [
    {
     "data": {
      "text/plain": [
       "count    10000.000000\n",
       "mean        34.455299\n",
       "std         26.309341\n",
       "min          1.001981\n",
       "25%          7.896215\n",
       "50%         35.836244\n",
       "75%         61.161020\n",
       "max         71.981490\n",
       "Name: Initial_days, dtype: float64"
      ]
     },
     "execution_count": 15,
     "metadata": {},
     "output_type": "execute_result"
    }
   ],
   "source": [
    "# initial days\n",
    "df['Initial_days'].describe()"
   ]
  },
  {
   "cell_type": "code",
   "execution_count": 16,
   "metadata": {
    "colab": {
     "base_uri": "https://localhost:8080/",
     "height": 368
    },
    "id": "Hg0SMWfyooK4",
    "outputId": "02a3f30f-6c03-41d3-a331-863862063152"
   },
   "outputs": [
    {
     "data": {
      "text/plain": [
       "array([[<matplotlib.axes._subplots.AxesSubplot object at 0x0DC8AE38>,\n",
       "        <matplotlib.axes._subplots.AxesSubplot object at 0x0DAF5BF8>],\n",
       "       [<matplotlib.axes._subplots.AxesSubplot object at 0x0DE76D30>,\n",
       "        <matplotlib.axes._subplots.AxesSubplot object at 0x0DE9B3E8>]],\n",
       "      dtype=object)"
      ]
     },
     "execution_count": 16,
     "metadata": {},
     "output_type": "execute_result"
    },
    {
     "data": {
      "image/png": "[encoded data removed]",
      "text/plain": [
       "<Figure size 432x288 with 4 Axes>"
      ]
     },
     "metadata": {
      "needs_background": "light"
     },
     "output_type": "display_data"
    }
   ],
   "source": [
    "df[['Initial_days', 'TotalCharge', 'TimelyAdmission', 'TimelyTreatment']].hist()"
   ]
  },
  {
   "cell_type": "code",
   "execution_count": 17,
   "metadata": {
    "colab": {
     "base_uri": "https://localhost:8080/",
     "height": 335
    },
    "id": "Owb1r2TaooK5",
    "outputId": "68697c41-da17-4d0e-fba3-b753df725d72"
   },
   "outputs": [
    {
     "data": {
      "image/png": "[encoded data removed]",
      "text/plain": [
       "<Figure size 432x288 with 1 Axes>"
      ]
     },
     "metadata": {
      "needs_background": "light"
     },
     "output_type": "display_data"
    }
   ],
   "source": [
    "sns.boxplot('Initial_days', data = df)\n",
    "plt.show()"
   ]
  },
  {
   "cell_type": "code",
   "execution_count": 18,
   "metadata": {
    "colab": {
     "base_uri": "https://localhost:8080/",
     "height": 334
    },
    "id": "2MAedWHaooK5",
    "outputId": "99223396-54f6-4ba1-f4c7-11a5e11a5486"
   },
   "outputs": [
    {
     "data": {
      "image/png": "[encoded data removed]",
      "text/plain": [
       "<Figure size 432x288 with 1 Axes>"
      ]
     },
     "metadata": {
      "needs_background": "light"
     },
     "output_type": "display_data"
    }
   ],
   "source": [
    "sns.boxplot('TotalCharge', data = df)\n",
    "plt.show()"
   ]
  },
  {
   "cell_type": "code",
   "execution_count": 19,
   "metadata": {
    "colab": {
     "base_uri": "https://localhost:8080/",
     "height": 334
    },
    "id": "RgAAHz34ooK5",
    "outputId": "794359c3-fbbc-4f2e-b9b4-d6c9655bacb3"
   },
   "outputs": [
    {
     "data": {
      "image/png": "[encoded data removed]",
      "text/plain": [
       "<Figure size 432x288 with 1 Axes>"
      ]
     },
     "metadata": {
      "needs_background": "light"
     },
     "output_type": "display_data"
    }
   ],
   "source": [
    "sns.boxplot('TimelyAdmission', data = df)\n",
    "plt.show()"
   ]
  },
  {
   "cell_type": "code",
   "execution_count": 20,
   "metadata": {
    "colab": {
     "base_uri": "https://localhost:8080/",
     "height": 334
    },
    "id": "dunyKGCdooK6",
    "outputId": "faef38f0-78ed-4153-8116-bd67ae5b345a"
   },
   "outputs": [
    {
     "data": {
      "image/png": "[encoded data removed]",
      "text/plain": [
       "<Figure size 432x288 with 1 Axes>"
      ]
     },
     "metadata": {
      "needs_background": "light"
     },
     "output_type": "display_data"
    }
   ],
   "source": [
    "sns.boxplot('TimelyTreatment', data = df)\n",
    "plt.show()"
   ]
  },
  {
   "cell_type": "markdown",
   "metadata": {
    "id": "7qlTtyfrooK6"
   },
   "source": [
    "## Task D: Identify the distribution of two continuous variables and two categorical variables using bivariate statistics from your cleaned and prepared data.\n",
    "\n",
    "Represent your findings in Part D, visually as part of your submission."
   ]
  },
  {
   "cell_type": "code",
   "execution_count": 21,
   "metadata": {
    "colab": {
     "base_uri": "https://localhost:8080/",
     "height": 344
    },
    "id": "vzLUkwe0ooK6",
    "outputId": "b454971f-c19b-43ea-9ecf-dc47658495db"
   },
   "outputs": [
    {
     "data": {
      "image/png": "[encoded data removed]",
      "text/plain": [
       "<Figure size 432x288 with 2 Axes>"
      ]
     },
     "metadata": {
      "needs_background": "light"
     },
     "output_type": "display_data"
    }
   ],
   "source": [
    "bivariate = df[['Initial_days', 'TotalCharge', 'TimelyAdmission', 'TimelyTreatment']]\n",
    "sns.heatmap(bivariate.corr(), cmap='RdPu', annot=True)\n",
    "plt.show()"
   ]
  },
  {
   "cell_type": "code",
   "execution_count": 22,
   "metadata": {
    "colab": {
     "base_uri": "https://localhost:8080/",
     "height": 265
    },
    "id": "mj08hHzzooK6",
    "outputId": "855a4f49-3964-4cec-f578-b5669327c0a4"
   },
   "outputs": [
    {
     "data": {
      "image/png": "[encoded data removed]",
      "text/plain": [
       "<Figure size 432x288 with 1 Axes>"
      ]
     },
     "metadata": {
      "needs_background": "light"
     },
     "output_type": "display_data"
    }
   ],
   "source": [
    "plt.scatter(df['Initial_days'], df['TotalCharge'])\n",
    "plt.show()"
   ]
  },
  {
   "cell_type": "code",
   "execution_count": 23,
   "metadata": {
    "colab": {
     "base_uri": "https://localhost:8080/",
     "height": 265
    },
    "id": "ABoOpdN0ooK7",
    "outputId": "ff5c617b-95ee-458e-d86e-99657b5ad98d"
   },
   "outputs": [
    {
     "data": {
      "image/png": "[encoded data removed]",
      "text/plain": [
       "<Figure size 432x288 with 1 Axes>"
      ]
     },
     "metadata": {
      "needs_background": "light"
     },
     "output_type": "display_data"
    }
   ],
   "source": [
    "plt.scatter(df['TimelyAdmission'], df['TimelyTreatment'])\n",
    "plt.show()"
   ]
  },
  {
   "cell_type": "markdown",
   "metadata": {
    "id": "Res3sODxooK7"
   },
   "source": [
    "## Task E:  Summarize the implications of your data analysis by doing the following:\n",
    "\n",
    "### 1.  Discuss the results of the hypothesis test.\n",
    "\n",
    "Our reseach question explores whether there are any indicators on whether a patient will get readmitted into the hospital. In our prior analysis, we conducted a PCA on the variables of the data set. Our calculations found that TimelyAdmission was one of our principal components. In this analysis, we used the chi-squared test to determine whether there was a statistically significant relationship between the two variables TimelyAdmission and ReAdmis.\n",
    "\n",
    "To set up our chi-squared test, we define the following:\n",
    "\n",
    "The **null hypothesis, H<sub>0,** is: there is no relationship between the two variables (TimelyAdmission and ReAdmis) <br>\n",
    "The **research hypothesis, H<sub>1,** is: there is a relationship between the two variables (TimelyAdmission and ReAdmis)\n",
    "\n",
    "\n",
    "We will set our alpha, or significance value, at **0.05**, as this is the standard practice.\n",
    "\n",
    "\n",
    "\n",
    "```\n",
    "c, p, dof, expected = chi2_contingency(contingency1)\n",
    "print('p-value = ' + str(p))\n",
    "print('chi-squared value = ' + str(c))\n",
    "print('degrees of freedom = ' + str(dof))\n",
    "```\n",
    "\n",
    "```\n",
    "p-value = 0.44711691481022053\n",
    "chi-squared value = 6.8269565562495975\n",
    "degrees of freedom = 7\n",
    "```\n",
    "\n",
    "Using the code from above, we determined that the p-value of the two variables is approximately 0.45, which is higher than the alpha value of 0.05. Therefore, we accept the null hypothesis. It is unclear whether there is a relationship between the survey question regarding timely admission and readmission into the hospital.\n",
    "\n",
    "\n",
    "### 2.  Discuss the limitations of your data analysis.\n",
    "\n",
    "Our analysis revealed that there is no relationship between the readmission variable and the timely admission variable. Since our p-value was higher than the alpha value of 0.05, it is difficult to interpret whether there exsists a relationship or any significance between the two variables.\n",
    "\n",
    "### 3.  Recommend a course of action based on your results.\n",
    "\n",
    "I would recommend the hospital to collect better data on the patients and consider rewording their survey questions. Maybe conducting a detailed survey would help contribute to stronger data. I would also suggest focusing on the 4 principal components that were revealed in our data cleaning process as our analysis showed that the 4 principal components did explain a significant amount of varience in the data. "
   ]
  },
  {
   "cell_type": "markdown",
   "metadata": {
    "id": "-h9jtPGWooK7"
   },
   "source": [
    "## Task F : Provide a Panopto video recording that includes a demonstration of the functionality of the code used for the analysis and a summary of the tool(s) used. \n",
    "\n",
    "Please see the following link for the Panopto video: https://wgu.hosted.panopto.com/Panopto/Pages/Viewer.aspx?id=6a2c40b7-ac89-424d-a7af-aecc0108c741"
   ]
  },
  {
   "cell_type": "markdown",
   "metadata": {
    "id": "ib-MrB5eooK7"
   },
   "source": [
    "## Task G and Task H:  Reference the web sources used to acquire segments of third-party code to support the analysis (Task G). Acknowledge sources, using in-text citations and references, for content that is quoted, paraphrased, or summarized (Task H).\n",
    "\n",
    "References: <br>\n",
    "\n",
    "Frost, J. Chi-Square Test of Independence and an Example. Statistics by Jim. https://statisticsbyjim.com/hypothesis-testing/chi-square-test-independence-example/\n",
    "\n",
    "Rau, J. (2021, November 4) 10 Years of Hospital Readmissions Penalties. KFF. \thttps://www.kff.org/health-reform/slide/10-years-of-hospital-readmissions-penalties/#:~:text=The%20average%20penalty%20this%20fiscal,and%2055%25%20of%20all%20hospitals.\n",
    "\n",
    "## Task I: Demonstrate professional communication in the content and presentation of your submission.\n",
    "\n",
    "Please see the demonstration of professional communication throughout the presentation and the Panopto video. "
   ]
  }
 ],
 "metadata": {
  "colab": {
   "collapsed_sections": [],
   "name": "07052022",
   "provenance": []
  },
  "kernelspec": {
   "display_name": "Python 3",
   "language": "python",
   "name": "python3"
  },
  "language_info": {
   "codemirror_mode": {
    "name": "ipython",
    "version": 3
   },
   "file_extension": ".py",
   "mimetype": "text/x-python",
   "name": "python",
   "nbconvert_exporter": "python",
   "pygments_lexer": "ipython3",
   "version": "3.8.3"
  }
 },
 "nbformat": 4,
 "nbformat_minor": 1
}
