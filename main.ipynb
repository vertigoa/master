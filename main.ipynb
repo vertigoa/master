{
 "cells": [
  {
   "cell_type": "code",
   "execution_count": 13,
   "metadata": {},
   "outputs": [
    {
     "data": {
      "text/plain": [
       "'\\n FILEPATH: /c:/Users/hinde/Documents/GitHub/master/main.ipynb\\n THE RULES:\\n Help me complete a performance assesment for my masters in Data Analytics at Western Governers University (WGU). This performance assessment is for Exploratory Data Analsys D207 course at WGU.\\n - review and re-review the following files delimited by `` before starting and as needed throughout the project.\\n - `project_guide_requirements_rubric.pdf` is the main guide for the project and should be used as a guide to complete the project. Completing the requirments in order according to the letterNumber system (e.g. A1, A2, B1, etc.) is the main task of the project. The RUBRIC section of the guide should be used to check the project before submission. We should meet all the boxed requirmentes labled Compitent before submitting the project. Ignore all things related to video or file format in the rubric and requirements.\\n - `submittedd206.pdf` is the previous project i completed where I cleaned the data for this project. We ill be using some of the discussion and code and examples from that project to complete this project when necessary.\\n - `template_D207.ipynb` is an already completed example of the project and can serve as a guide or template for the project.\\n - `dataDictionary.pdf` is the data dictionary and can be used as a reference for the data in the project.\\n - I will update this sections throughout the project and instruct you to reread the rules when needed. If instructed, you will reread this block for new information and familiarize yourself with it.\\n'"
      ]
     },
     "execution_count": 13,
     "metadata": {},
     "output_type": "execute_result"
    }
   ],
   "source": [
    "\n",
    "\"\"\"\n",
    " FILEPATH: /c:/Users/hinde/Documents/GitHub/master/main.ipynb\n",
    " THE RULES:\n",
    " Help me complete a performance assesment for my masters in Data Analytics at Western Governers University (WGU). This performance assessment is for Exploratory Data Analsys D207 course at WGU.\n",
    " - review and re-review the following files delimited by `` before starting and as needed throughout the project.\n",
    " - `project_guide_requirements_rubric.pdf` is the main guide for the project and should be used as a guide to complete the project. Completing the requirments in order according to the letterNumber system (e.g. A1, A2, B1, etc.) is the main task of the project. The RUBRIC section of the guide should be used to check the project before submission. We should meet all the boxed requirmentes labled Compitent before submitting the project. Ignore all things related to video or file format in the rubric and requirements.\n",
    " - `submittedd206.pdf` is the previous project i completed where I cleaned the data for this project. We ill be using some of the discussion and code and examples from that project to complete this project when necessary.\n",
    " - `template_D207.ipynb` is an already completed example of the project and can serve as a guide or template for the project.\n",
    " - `dataDictionary.pdf` is the data dictionary and can be used as a reference for the data in the project.\n",
    " - I will update this sections throughout the project and instruct you to reread the rules when needed. If instructed, you will reread this block for new information and familiarize yourself with it.\n",
    "\"\"\"\n"
   ]
  },
  {
   "cell_type": "code",
   "execution_count": null,
   "metadata": {},
   "outputs": [],
   "source": []
  }
 ],
 "metadata": {
  "kernelspec": {
   "display_name": ".venv",
   "language": "python",
   "name": "python3"
  },
  "language_info": {
   "codemirror_mode": {
    "name": "ipython",
    "version": 3
   },
   "file_extension": ".py",
   "mimetype": "text/x-python",
   "name": "python",
   "nbconvert_exporter": "python",
   "pygments_lexer": "ipython3",
   "version": "3.12.1"
  }
 },
 "nbformat": 4,
 "nbformat_minor": 2
}
