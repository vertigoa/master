{
 "cells": [
  {
   "cell_type": "markdown",
   "metadata": {},
   "source": [
    "CHI code discussion via copilot:\n",
    "The `chi` and `chi2` distributions in `scipy` are both related to statistical testing, but they are used in different contexts:\n",
    "\n",
    "1. `chi`: The Chi distribution is used in raw form for the Chi-Square test for goodness of fit, where you have expected values for a single variable and you want to see if the observed values significantly deviate from those expectations.\n",
    "\n",
    "2. `chi2`: The Chi-Squared distribution is used in the Chi-Square tests of independence and homogeneity, where you're comparing the distributions of two categorical variables (like in your code with 'ReAdmis' and 'TimelyTreatment'). You don't need to have expected values to start with for a Chi-Square test of independence; the test will calculate the expected frequencies based on the observed data.\n",
    "\n",
    "So, to answer your question, you would use the `chi` distribution when you have expected values for a single variable and you're performing a Chi-Square test for goodness of fit. For a Chi-Square test of independence like in your code, you would use the `chi2` distribution."
   ]
  },
  {
   "cell_type": "markdown",
   "metadata": {},
   "source": [
    "# D207 Exploratory Data Analysis Performace Assessment\n",
    "\n",
    "### Michael Hindes\n",
    "<br>Department of Information Technology, Western Governors University\n",
    "<br>D207: Exploratory Data Analysis\n",
    "<br>Professor David Gagner\n",
    "<br>Dec 29, 2023"
   ]
  },
  {
   "cell_type": "markdown",
   "metadata": {},
   "source": [
    "## Task A:  Describe a real-world organizational situation or issue in the Data Dictionary you chose, by doing the following:\n",
    "\n",
    "### **1.  Provide one question that is relevant to your chosen data set.**\n",
    "\n",
    "Preventable rehospitalization is a persistent financial challenge for medical institutions across the United States. This occurrence is frequent enough to where there is an external organization, Centers for Medicare and Medicaid Services (CMS), that penalizes hospitals for excessive readmissions. The Kaiser Family Foundations states that some of these readmission are preventable if more measures were in conduct by both the healthcare professionals and patients during and after they leave the hospital (Rau, 2021).\n",
    "\n",
    "The percentage of hospitals penalized for readmission has increased each year since the CMS began imposing penalties. According to the CMS reports, there were approximately 78% of hospitals that were fined with readmission penalties in the year 2015. About 75% of hospitals report being confident in their ability to remedy and reduce these fines and only 55% of hospitals project receiving these penalties. However, given the historical trend, the percentage of total hospitals fined is projected to be higher than 55%. Although hospitals are becoming more proactive and asserting more reduction strategies, fewer than 20% utilize technologies that is specific to reducing readmission.\n",
    "\n",
    "Given the context above, we can begin questioning if there are predictive measures that can be taken place when given patient information. For this project, my research question will be:\n",
    "\n",
    "**Who are the patients who are at the highest risk of readmission?**\n",
    "\n",
    "### **2.  Explain how stakeholders in the organization could benefit from an analysis of the data.**\n",
    "\n",
    "Stakeholders will benefit from this analysis by understanding which patients are at the highest risk of readmission. Additionally, stakeholders will be informed on what charaterists are relevant in predicting patient readmission. This information will be beneficial to the stakeholders because it will provide insight in making decisions in the interests of the business. For example, if the stakeholders are planning to strat a project on reducing readmission in patients, information for this analysis could help identify focus areas.\n",
    "\n",
    "### **3.  Identify all of the data in your data set that are relevant to answering your question in part A1.**\n",
    "\n",
    "In our data cleaning phase, we conducted a Principal Component Analysis (PCA) and identified 4 principal components that explain approximately 39% of the variance in the data. The variables are as follows: \n",
    "> * TimelyAdmission\n",
    "> * TimelyTreatment\n",
    "> * TimelyVisits\n",
    "> * TreatmentTime\n",
    "\n",
    "The variables are ordered respective to the most significant variable to the least. In this analysis, we will assess the TimelyAdmission variable with the ReAdmis variable. The principal components above are survey responses, the values are integers between 1 through 8, 1 represents the least satisfaction and 8 representing the most satisfaction. ReAdmis is a binary yes or no variable that indicates whether the patient has been readmitted into the hospital. Since both variables are categorical, we will be conducting a **chi-squared test**."
   ]
  },
  {
   "cell_type": "markdown",
   "metadata": {},
   "source": [
    "\n",
    "# Part I: Research Question and Variables\n",
    "\n",
    "## Background\n",
    "\n",
    "- Medical readmissions are a pressing issue in healthcare, affecting not just patients but also the institutions that serve them. This challenge has even led the Centers for Medicare and Medicaid Services (CMS) to impose penalties on hospitals with high readmission rates (WGU, 2023). Despite the financial and reputational risks, many hospitals are not adequately prepared to tackle this problem. This performance assessment seeks to address this gap *by identifying variables that may predict a patient's likelihood of readmission to the emergency room*. It serves as a pivotal part of the data analytics process aimed at improving healthcare outcomes.\n",
    "\n",
    "## A. Research Question\n",
    "\n",
    "- **Question**: Are there specific variables that can help predict the likelihood of a patient's re-admittance to the emergency room?\n",
    "  - To tackle this question, the `'medical_raw_data.csv'` dataset (WGU, 2023) will be cleaned for analysis. After inspecting and understanding the data, cleaning will include handling missing values, duplicates, and outliers, re-expressing categorical variables, and performing principal component analysis for potential relationships in the data. This dataset is rich with a variety of variables that could influence a patient's chances of returning to the hospital.\n",
    "\n",
    "## B. Variable Description\n",
    "\n",
    "- **Variables**: \n",
    "  - The table below describes all variables in the dataset as received from an online source (WGU, 2023). The table includes the Variable name, Data type, Variable Type, Description, and an Example for every variable in the dataset.\n",
    "\n",
    "- **Variable Categories**:\n",
    "  - *Patient Characteristics*: Age, gender, and various health conditions.\n",
    "  - *Hospital Stay Details*: Treatments administered, duration of hospitalization, and the nature of the patient's initial entry. Importantly, the dataset includes a 'ReAdmis' variable, which is a binary indication (Yes, No) of whether the patient was readmitted within a month of discharge.\n",
    "  - *Health Issues*: Hypertension, cerebral incidents, excessive weight, joint inflammation, and sugar imbalances.\n",
    "  - *Demographics*: Sex, age bracket, occupation, and educational background.\n"
   ]
  },
  {
   "cell_type": "markdown",
   "metadata": {},
   "source": []
  }
 ],
 "metadata": {
  "kernelspec": {
   "display_name": ".venv",
   "language": "python",
   "name": "python3"
  },
  "language_info": {
   "name": "python",
   "version": "3.12.1"
  }
 },
 "nbformat": 4,
 "nbformat_minor": 2
}
